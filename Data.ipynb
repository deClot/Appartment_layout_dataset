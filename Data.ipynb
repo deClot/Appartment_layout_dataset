{
 "cells": [
  {
   "cell_type": "code",
   "execution_count": 1,
   "metadata": {},
   "outputs": [],
   "source": [
    "import pandas as pd\n",
    "import numpy as np"
   ]
  },
  {
   "cell_type": "code",
   "execution_count": 6,
   "metadata": {},
   "outputs": [
    {
     "data": {
      "text/html": [
       "<div>\n",
       "<style scoped>\n",
       "    .dataframe tbody tr th:only-of-type {\n",
       "        vertical-align: middle;\n",
       "    }\n",
       "\n",
       "    .dataframe tbody tr th {\n",
       "        vertical-align: top;\n",
       "    }\n",
       "\n",
       "    .dataframe thead th {\n",
       "        text-align: right;\n",
       "    }\n",
       "</style>\n",
       "<table border=\"1\" class=\"dataframe\">\n",
       "  <thead>\n",
       "    <tr style=\"text-align: right;\">\n",
       "      <th></th>\n",
       "      <th>name</th>\n",
       "      <th>area</th>\n",
       "      <th>n_rooms</th>\n",
       "      <th>restroom</th>\n",
       "      <th>studio</th>\n",
       "      <th>storeroom</th>\n",
       "      <th>area_cat</th>\n",
       "      <th>no_livingroom</th>\n",
       "      <th>test</th>\n",
       "    </tr>\n",
       "    <tr>\n",
       "      <th>index</th>\n",
       "      <th></th>\n",
       "      <th></th>\n",
       "      <th></th>\n",
       "      <th></th>\n",
       "      <th></th>\n",
       "      <th></th>\n",
       "      <th></th>\n",
       "      <th></th>\n",
       "      <th></th>\n",
       "    </tr>\n",
       "  </thead>\n",
       "  <tbody>\n",
       "    <tr>\n",
       "      <th>0</th>\n",
       "      <td>3r_73m3_ts_sy</td>\n",
       "      <td>73.30</td>\n",
       "      <td>3</td>\n",
       "      <td>separate</td>\n",
       "      <td>True</td>\n",
       "      <td>True</td>\n",
       "      <td>(70, 80]</td>\n",
       "      <td>False</td>\n",
       "      <td>False</td>\n",
       "    </tr>\n",
       "    <tr>\n",
       "      <th>1</th>\n",
       "      <td>3r_115m05_ts_sy</td>\n",
       "      <td>113.57</td>\n",
       "      <td>3</td>\n",
       "      <td>separate</td>\n",
       "      <td>True</td>\n",
       "      <td>False</td>\n",
       "      <td>(110, 120]</td>\n",
       "      <td>False</td>\n",
       "      <td>False</td>\n",
       "    </tr>\n",
       "    <tr>\n",
       "      <th>2</th>\n",
       "      <td>3r_91m7_tt_sn</td>\n",
       "      <td>91.70</td>\n",
       "      <td>3</td>\n",
       "      <td>together</td>\n",
       "      <td>False</td>\n",
       "      <td>False</td>\n",
       "      <td>(90, 100]</td>\n",
       "      <td>False</td>\n",
       "      <td>True</td>\n",
       "    </tr>\n",
       "    <tr>\n",
       "      <th>3</th>\n",
       "      <td>3r_77m4_ts_sy</td>\n",
       "      <td>77.40</td>\n",
       "      <td>3</td>\n",
       "      <td>2rooms</td>\n",
       "      <td>True</td>\n",
       "      <td>True</td>\n",
       "      <td>(70, 80]</td>\n",
       "      <td>False</td>\n",
       "      <td>False</td>\n",
       "    </tr>\n",
       "    <tr>\n",
       "      <th>4</th>\n",
       "      <td>3r_65m2_ts_sn</td>\n",
       "      <td>65.20</td>\n",
       "      <td>3</td>\n",
       "      <td>separate</td>\n",
       "      <td>False</td>\n",
       "      <td>False</td>\n",
       "      <td>(60, 70]</td>\n",
       "      <td>False</td>\n",
       "      <td>False</td>\n",
       "    </tr>\n",
       "    <tr>\n",
       "      <th>5</th>\n",
       "      <td>3r_74m48_ts_sn</td>\n",
       "      <td>74.48</td>\n",
       "      <td>3</td>\n",
       "      <td>separate</td>\n",
       "      <td>False</td>\n",
       "      <td>False</td>\n",
       "      <td>(70, 80]</td>\n",
       "      <td>False</td>\n",
       "      <td>False</td>\n",
       "    </tr>\n",
       "    <tr>\n",
       "      <th>6</th>\n",
       "      <td>3r_90m3_ts_sn</td>\n",
       "      <td>90.30</td>\n",
       "      <td>3</td>\n",
       "      <td>2rooms</td>\n",
       "      <td>False</td>\n",
       "      <td>True</td>\n",
       "      <td>(90, 100]</td>\n",
       "      <td>False</td>\n",
       "      <td>False</td>\n",
       "    </tr>\n",
       "    <tr>\n",
       "      <th>7</th>\n",
       "      <td>3r_82m28_ts_sy</td>\n",
       "      <td>82.28</td>\n",
       "      <td>3</td>\n",
       "      <td>separate</td>\n",
       "      <td>False</td>\n",
       "      <td>False</td>\n",
       "      <td>(80, 90]</td>\n",
       "      <td>False</td>\n",
       "      <td>False</td>\n",
       "    </tr>\n",
       "    <tr>\n",
       "      <th>8</th>\n",
       "      <td>3r_73m4_tt_sy</td>\n",
       "      <td>73.40</td>\n",
       "      <td>3</td>\n",
       "      <td>together</td>\n",
       "      <td>True</td>\n",
       "      <td>True</td>\n",
       "      <td>(70, 80]</td>\n",
       "      <td>False</td>\n",
       "      <td>True</td>\n",
       "    </tr>\n",
       "    <tr>\n",
       "      <th>9</th>\n",
       "      <td>3r_84m23_ts_sy</td>\n",
       "      <td>84.23</td>\n",
       "      <td>3</td>\n",
       "      <td>2rooms</td>\n",
       "      <td>True</td>\n",
       "      <td>True</td>\n",
       "      <td>(80, 90]</td>\n",
       "      <td>False</td>\n",
       "      <td>False</td>\n",
       "    </tr>\n",
       "    <tr>\n",
       "      <th>10</th>\n",
       "      <td>3r_81m36_tt_sn</td>\n",
       "      <td>81.36</td>\n",
       "      <td>3</td>\n",
       "      <td>together</td>\n",
       "      <td>False</td>\n",
       "      <td>False</td>\n",
       "      <td>(80, 90]</td>\n",
       "      <td>False</td>\n",
       "      <td>False</td>\n",
       "    </tr>\n",
       "    <tr>\n",
       "      <th>11</th>\n",
       "      <td>3r_46m8_tt_sy</td>\n",
       "      <td>46.80</td>\n",
       "      <td>3</td>\n",
       "      <td>together</td>\n",
       "      <td>True</td>\n",
       "      <td>False</td>\n",
       "      <td>(40, 50]</td>\n",
       "      <td>False</td>\n",
       "      <td>False</td>\n",
       "    </tr>\n",
       "    <tr>\n",
       "      <th>12</th>\n",
       "      <td>3r_72m2_tt_sy</td>\n",
       "      <td>72.20</td>\n",
       "      <td>3</td>\n",
       "      <td>together</td>\n",
       "      <td>True</td>\n",
       "      <td>True</td>\n",
       "      <td>(70, 80]</td>\n",
       "      <td>False</td>\n",
       "      <td>False</td>\n",
       "    </tr>\n",
       "    <tr>\n",
       "      <th>13</th>\n",
       "      <td>3r_126m09_ts_sn</td>\n",
       "      <td>126.09</td>\n",
       "      <td>3</td>\n",
       "      <td>2rooms</td>\n",
       "      <td>False</td>\n",
       "      <td>True</td>\n",
       "      <td>(120, 130]</td>\n",
       "      <td>False</td>\n",
       "      <td>False</td>\n",
       "    </tr>\n",
       "    <tr>\n",
       "      <th>14</th>\n",
       "      <td>2r_57m49_tt_sn</td>\n",
       "      <td>57.09</td>\n",
       "      <td>2</td>\n",
       "      <td>together</td>\n",
       "      <td>False</td>\n",
       "      <td>False</td>\n",
       "      <td>(50, 60]</td>\n",
       "      <td>True</td>\n",
       "      <td>False</td>\n",
       "    </tr>\n",
       "    <tr>\n",
       "      <th>15</th>\n",
       "      <td>2r_64m86_ts_sn</td>\n",
       "      <td>64.86</td>\n",
       "      <td>2</td>\n",
       "      <td>separate</td>\n",
       "      <td>False</td>\n",
       "      <td>True</td>\n",
       "      <td>(60, 70]</td>\n",
       "      <td>False</td>\n",
       "      <td>False</td>\n",
       "    </tr>\n",
       "    <tr>\n",
       "      <th>16</th>\n",
       "      <td>2r_42m52_tt_sy</td>\n",
       "      <td>42.52</td>\n",
       "      <td>2</td>\n",
       "      <td>together</td>\n",
       "      <td>True</td>\n",
       "      <td>True</td>\n",
       "      <td>(40, 50]</td>\n",
       "      <td>False</td>\n",
       "      <td>False</td>\n",
       "    </tr>\n",
       "    <tr>\n",
       "      <th>17</th>\n",
       "      <td>2r_58m94_tt_sn</td>\n",
       "      <td>58.94</td>\n",
       "      <td>2</td>\n",
       "      <td>together</td>\n",
       "      <td>False</td>\n",
       "      <td>True</td>\n",
       "      <td>(50, 60]</td>\n",
       "      <td>False</td>\n",
       "      <td>False</td>\n",
       "    </tr>\n",
       "    <tr>\n",
       "      <th>18</th>\n",
       "      <td>2r_38m54_tt_sy</td>\n",
       "      <td>38.54</td>\n",
       "      <td>2</td>\n",
       "      <td>together</td>\n",
       "      <td>True</td>\n",
       "      <td>False</td>\n",
       "      <td>(30, 40]</td>\n",
       "      <td>False</td>\n",
       "      <td>False</td>\n",
       "    </tr>\n",
       "    <tr>\n",
       "      <th>19</th>\n",
       "      <td>2r_61m49_ts_sn</td>\n",
       "      <td>61.49</td>\n",
       "      <td>2</td>\n",
       "      <td>separate</td>\n",
       "      <td>False</td>\n",
       "      <td>False</td>\n",
       "      <td>(60, 70]</td>\n",
       "      <td>False</td>\n",
       "      <td>True</td>\n",
       "    </tr>\n",
       "    <tr>\n",
       "      <th>20</th>\n",
       "      <td>2r_71m34_ts_sn</td>\n",
       "      <td>71.34</td>\n",
       "      <td>2</td>\n",
       "      <td>separate</td>\n",
       "      <td>False</td>\n",
       "      <td>False</td>\n",
       "      <td>(70, 80]</td>\n",
       "      <td>False</td>\n",
       "      <td>False</td>\n",
       "    </tr>\n",
       "    <tr>\n",
       "      <th>21</th>\n",
       "      <td>2r_46m9_tt_sy</td>\n",
       "      <td>46.90</td>\n",
       "      <td>2</td>\n",
       "      <td>together</td>\n",
       "      <td>True</td>\n",
       "      <td>False</td>\n",
       "      <td>(40, 50]</td>\n",
       "      <td>False</td>\n",
       "      <td>False</td>\n",
       "    </tr>\n",
       "    <tr>\n",
       "      <th>22</th>\n",
       "      <td>2r_61m38_tt_sn</td>\n",
       "      <td>61.38</td>\n",
       "      <td>2</td>\n",
       "      <td>together</td>\n",
       "      <td>False</td>\n",
       "      <td>True</td>\n",
       "      <td>(60, 70]</td>\n",
       "      <td>True</td>\n",
       "      <td>False</td>\n",
       "    </tr>\n",
       "    <tr>\n",
       "      <th>23</th>\n",
       "      <td>2r_47m98_tt_sn</td>\n",
       "      <td>47.98</td>\n",
       "      <td>2</td>\n",
       "      <td>together</td>\n",
       "      <td>False</td>\n",
       "      <td>False</td>\n",
       "      <td>(40, 50]</td>\n",
       "      <td>True</td>\n",
       "      <td>False</td>\n",
       "    </tr>\n",
       "    <tr>\n",
       "      <th>24</th>\n",
       "      <td>2r_50m2_tt_sy</td>\n",
       "      <td>50.20</td>\n",
       "      <td>2</td>\n",
       "      <td>together</td>\n",
       "      <td>True</td>\n",
       "      <td>True</td>\n",
       "      <td>(50, 60]</td>\n",
       "      <td>True</td>\n",
       "      <td>True</td>\n",
       "    </tr>\n",
       "    <tr>\n",
       "      <th>25</th>\n",
       "      <td>2r_57m36_ts_sn</td>\n",
       "      <td>57.36</td>\n",
       "      <td>2</td>\n",
       "      <td>separate</td>\n",
       "      <td>False</td>\n",
       "      <td>False</td>\n",
       "      <td>(50, 60]</td>\n",
       "      <td>True</td>\n",
       "      <td>False</td>\n",
       "    </tr>\n",
       "    <tr>\n",
       "      <th>26</th>\n",
       "      <td>2r_64m88_ts_sn</td>\n",
       "      <td>64.88</td>\n",
       "      <td>2</td>\n",
       "      <td>separate</td>\n",
       "      <td>False</td>\n",
       "      <td>True</td>\n",
       "      <td>(60, 70]</td>\n",
       "      <td>True</td>\n",
       "      <td>False</td>\n",
       "    </tr>\n",
       "    <tr>\n",
       "      <th>27</th>\n",
       "      <td>2r_50m48_tt_sy</td>\n",
       "      <td>50.48</td>\n",
       "      <td>2</td>\n",
       "      <td>together</td>\n",
       "      <td>True</td>\n",
       "      <td>False</td>\n",
       "      <td>(50, 60]</td>\n",
       "      <td>False</td>\n",
       "      <td>False</td>\n",
       "    </tr>\n",
       "    <tr>\n",
       "      <th>28</th>\n",
       "      <td>1r_40m65_tt_sn</td>\n",
       "      <td>40.65</td>\n",
       "      <td>1</td>\n",
       "      <td>together</td>\n",
       "      <td>False</td>\n",
       "      <td>True</td>\n",
       "      <td>(40, 50]</td>\n",
       "      <td>True</td>\n",
       "      <td>False</td>\n",
       "    </tr>\n",
       "    <tr>\n",
       "      <th>29</th>\n",
       "      <td>1r_45m95_tt_sn</td>\n",
       "      <td>45.95</td>\n",
       "      <td>1</td>\n",
       "      <td>together</td>\n",
       "      <td>False</td>\n",
       "      <td>True</td>\n",
       "      <td>(40, 50]</td>\n",
       "      <td>False</td>\n",
       "      <td>False</td>\n",
       "    </tr>\n",
       "    <tr>\n",
       "      <th>30</th>\n",
       "      <td>1r_47m4_tt_sn</td>\n",
       "      <td>47.40</td>\n",
       "      <td>1</td>\n",
       "      <td>together</td>\n",
       "      <td>False</td>\n",
       "      <td>False</td>\n",
       "      <td>(40, 50]</td>\n",
       "      <td>False</td>\n",
       "      <td>False</td>\n",
       "    </tr>\n",
       "    <tr>\n",
       "      <th>31</th>\n",
       "      <td>1r_30m1_tt_sn</td>\n",
       "      <td>30.10</td>\n",
       "      <td>1</td>\n",
       "      <td>together</td>\n",
       "      <td>False</td>\n",
       "      <td>False</td>\n",
       "      <td>(30, 40]</td>\n",
       "      <td>False</td>\n",
       "      <td>False</td>\n",
       "    </tr>\n",
       "    <tr>\n",
       "      <th>32</th>\n",
       "      <td>1r_22m9_tt_sy</td>\n",
       "      <td>22.90</td>\n",
       "      <td>1</td>\n",
       "      <td>together</td>\n",
       "      <td>True</td>\n",
       "      <td>False</td>\n",
       "      <td>(20, 30]</td>\n",
       "      <td>False</td>\n",
       "      <td>True</td>\n",
       "    </tr>\n",
       "    <tr>\n",
       "      <th>33</th>\n",
       "      <td>1r_42m2_ts_sn</td>\n",
       "      <td>42.29</td>\n",
       "      <td>1</td>\n",
       "      <td>separate</td>\n",
       "      <td>False</td>\n",
       "      <td>False</td>\n",
       "      <td>(40, 50]</td>\n",
       "      <td>False</td>\n",
       "      <td>True</td>\n",
       "    </tr>\n",
       "    <tr>\n",
       "      <th>34</th>\n",
       "      <td>1r_37m34_ts_sn</td>\n",
       "      <td>37.34</td>\n",
       "      <td>1</td>\n",
       "      <td>separate</td>\n",
       "      <td>False</td>\n",
       "      <td>False</td>\n",
       "      <td>(30, 40]</td>\n",
       "      <td>False</td>\n",
       "      <td>False</td>\n",
       "    </tr>\n",
       "    <tr>\n",
       "      <th>35</th>\n",
       "      <td>1r_33m4_tt_sy</td>\n",
       "      <td>33.40</td>\n",
       "      <td>1</td>\n",
       "      <td>together</td>\n",
       "      <td>True</td>\n",
       "      <td>False</td>\n",
       "      <td>(30, 40]</td>\n",
       "      <td>False</td>\n",
       "      <td>False</td>\n",
       "    </tr>\n",
       "    <tr>\n",
       "      <th>36</th>\n",
       "      <td>1r_28m43_tt_sy</td>\n",
       "      <td>28.43</td>\n",
       "      <td>1</td>\n",
       "      <td>together</td>\n",
       "      <td>True</td>\n",
       "      <td>False</td>\n",
       "      <td>(20, 30]</td>\n",
       "      <td>False</td>\n",
       "      <td>False</td>\n",
       "    </tr>\n",
       "    <tr>\n",
       "      <th>37</th>\n",
       "      <td>1r_44m37_tt_sy</td>\n",
       "      <td>44.37</td>\n",
       "      <td>1</td>\n",
       "      <td>together</td>\n",
       "      <td>True</td>\n",
       "      <td>False</td>\n",
       "      <td>(40, 50]</td>\n",
       "      <td>False</td>\n",
       "      <td>False</td>\n",
       "    </tr>\n",
       "    <tr>\n",
       "      <th>38</th>\n",
       "      <td>1r_38m7_tt_sy</td>\n",
       "      <td>38.77</td>\n",
       "      <td>1</td>\n",
       "      <td>together</td>\n",
       "      <td>True</td>\n",
       "      <td>False</td>\n",
       "      <td>(30, 40]</td>\n",
       "      <td>False</td>\n",
       "      <td>False</td>\n",
       "    </tr>\n",
       "    <tr>\n",
       "      <th>39</th>\n",
       "      <td>1r_31m14_tt_sy</td>\n",
       "      <td>31.14</td>\n",
       "      <td>1</td>\n",
       "      <td>together</td>\n",
       "      <td>True</td>\n",
       "      <td>False</td>\n",
       "      <td>(30, 40]</td>\n",
       "      <td>False</td>\n",
       "      <td>False</td>\n",
       "    </tr>\n",
       "    <tr>\n",
       "      <th>40</th>\n",
       "      <td>1r_34m6_tt_sn</td>\n",
       "      <td>34.60</td>\n",
       "      <td>1</td>\n",
       "      <td>together</td>\n",
       "      <td>False</td>\n",
       "      <td>False</td>\n",
       "      <td>(30, 40]</td>\n",
       "      <td>False</td>\n",
       "      <td>False</td>\n",
       "    </tr>\n",
       "    <tr>\n",
       "      <th>41</th>\n",
       "      <td>1r_43m8_tt_sn</td>\n",
       "      <td>43.80</td>\n",
       "      <td>1</td>\n",
       "      <td>together</td>\n",
       "      <td>False</td>\n",
       "      <td>True</td>\n",
       "      <td>(40, 50]</td>\n",
       "      <td>False</td>\n",
       "      <td>False</td>\n",
       "    </tr>\n",
       "  </tbody>\n",
       "</table>\n",
       "</div>"
      ],
      "text/plain": [
       "                  name    area  n_rooms  restroom  studio  storeroom  \\\n",
       "index                                                                  \n",
       "0        3r_73m3_ts_sy   73.30        3  separate    True       True   \n",
       "1      3r_115m05_ts_sy  113.57        3  separate    True      False   \n",
       "2        3r_91m7_tt_sn   91.70        3  together   False      False   \n",
       "3        3r_77m4_ts_sy   77.40        3    2rooms    True       True   \n",
       "4        3r_65m2_ts_sn   65.20        3  separate   False      False   \n",
       "5       3r_74m48_ts_sn   74.48        3  separate   False      False   \n",
       "6        3r_90m3_ts_sn   90.30        3    2rooms   False       True   \n",
       "7       3r_82m28_ts_sy   82.28        3  separate   False      False   \n",
       "8        3r_73m4_tt_sy   73.40        3  together    True       True   \n",
       "9       3r_84m23_ts_sy   84.23        3    2rooms    True       True   \n",
       "10      3r_81m36_tt_sn   81.36        3  together   False      False   \n",
       "11       3r_46m8_tt_sy   46.80        3  together    True      False   \n",
       "12       3r_72m2_tt_sy   72.20        3  together    True       True   \n",
       "13     3r_126m09_ts_sn  126.09        3    2rooms   False       True   \n",
       "14      2r_57m49_tt_sn   57.09        2  together   False      False   \n",
       "15      2r_64m86_ts_sn   64.86        2  separate   False       True   \n",
       "16      2r_42m52_tt_sy   42.52        2  together    True       True   \n",
       "17      2r_58m94_tt_sn   58.94        2  together   False       True   \n",
       "18      2r_38m54_tt_sy   38.54        2  together    True      False   \n",
       "19      2r_61m49_ts_sn   61.49        2  separate   False      False   \n",
       "20      2r_71m34_ts_sn   71.34        2  separate   False      False   \n",
       "21       2r_46m9_tt_sy   46.90        2  together    True      False   \n",
       "22      2r_61m38_tt_sn   61.38        2  together   False       True   \n",
       "23      2r_47m98_tt_sn   47.98        2  together   False      False   \n",
       "24       2r_50m2_tt_sy   50.20        2  together    True       True   \n",
       "25      2r_57m36_ts_sn   57.36        2  separate   False      False   \n",
       "26      2r_64m88_ts_sn   64.88        2  separate   False       True   \n",
       "27      2r_50m48_tt_sy   50.48        2  together    True      False   \n",
       "28      1r_40m65_tt_sn   40.65        1  together   False       True   \n",
       "29      1r_45m95_tt_sn   45.95        1  together   False       True   \n",
       "30       1r_47m4_tt_sn   47.40        1  together   False      False   \n",
       "31       1r_30m1_tt_sn   30.10        1  together   False      False   \n",
       "32       1r_22m9_tt_sy   22.90        1  together    True      False   \n",
       "33       1r_42m2_ts_sn   42.29        1  separate   False      False   \n",
       "34      1r_37m34_ts_sn   37.34        1  separate   False      False   \n",
       "35       1r_33m4_tt_sy   33.40        1  together    True      False   \n",
       "36      1r_28m43_tt_sy   28.43        1  together    True      False   \n",
       "37      1r_44m37_tt_sy   44.37        1  together    True      False   \n",
       "38       1r_38m7_tt_sy   38.77        1  together    True      False   \n",
       "39      1r_31m14_tt_sy   31.14        1  together    True      False   \n",
       "40       1r_34m6_tt_sn   34.60        1  together   False      False   \n",
       "41       1r_43m8_tt_sn   43.80        1  together   False       True   \n",
       "\n",
       "         area_cat  no_livingroom   test  \n",
       "index                                    \n",
       "0        (70, 80]          False  False  \n",
       "1      (110, 120]          False  False  \n",
       "2       (90, 100]          False   True  \n",
       "3        (70, 80]          False  False  \n",
       "4        (60, 70]          False  False  \n",
       "5        (70, 80]          False  False  \n",
       "6       (90, 100]          False  False  \n",
       "7        (80, 90]          False  False  \n",
       "8        (70, 80]          False   True  \n",
       "9        (80, 90]          False  False  \n",
       "10       (80, 90]          False  False  \n",
       "11       (40, 50]          False  False  \n",
       "12       (70, 80]          False  False  \n",
       "13     (120, 130]          False  False  \n",
       "14       (50, 60]           True  False  \n",
       "15       (60, 70]          False  False  \n",
       "16       (40, 50]          False  False  \n",
       "17       (50, 60]          False  False  \n",
       "18       (30, 40]          False  False  \n",
       "19       (60, 70]          False   True  \n",
       "20       (70, 80]          False  False  \n",
       "21       (40, 50]          False  False  \n",
       "22       (60, 70]           True  False  \n",
       "23       (40, 50]           True  False  \n",
       "24       (50, 60]           True   True  \n",
       "25       (50, 60]           True  False  \n",
       "26       (60, 70]           True  False  \n",
       "27       (50, 60]          False  False  \n",
       "28       (40, 50]           True  False  \n",
       "29       (40, 50]          False  False  \n",
       "30       (40, 50]          False  False  \n",
       "31       (30, 40]          False  False  \n",
       "32       (20, 30]          False   True  \n",
       "33       (40, 50]          False   True  \n",
       "34       (30, 40]          False  False  \n",
       "35       (30, 40]          False  False  \n",
       "36       (20, 30]          False  False  \n",
       "37       (40, 50]          False  False  \n",
       "38       (30, 40]          False  False  \n",
       "39       (30, 40]          False  False  \n",
       "40       (30, 40]          False  False  \n",
       "41       (40, 50]          False  False  "
      ]
     },
     "execution_count": 6,
     "metadata": {},
     "output_type": "execute_result"
    }
   ],
   "source": [
    "df = pd.read_csv('flats_info.csv', index_col=0)\n",
    "df"
   ]
  },
  {
   "cell_type": "code",
   "execution_count": 3,
   "metadata": {},
   "outputs": [],
   "source": [
    "df.drop(42, inplace=True)"
   ]
  },
  {
   "cell_type": "code",
   "execution_count": 4,
   "metadata": {},
   "outputs": [],
   "source": [
    "import os\n",
    "\n",
    "path = './new/all/'\n",
    "\n",
    "for name in df.name:\n",
    "    name += '_1.png'\n",
    "    if name not in os.listdir(path):\n",
    "        print(name)\n",
    "        "
   ]
  },
  {
   "cell_type": "code",
   "execution_count": 5,
   "metadata": {},
   "outputs": [
    {
     "name": "stderr",
     "output_type": "stream",
     "text": [
      "/home/refenement/.local/lib/python3.8/site-packages/pandas/core/indexing.py:670: SettingWithCopyWarning: \n",
      "A value is trying to be set on a copy of a slice from a DataFrame\n",
      "\n",
      "See the caveats in the documentation: https://pandas.pydata.org/pandas-docs/stable/user_guide/indexing.html#returning-a-view-versus-a-copy\n",
      "  iloc._setitem_with_indexer(indexer, value)\n"
     ]
    }
   ],
   "source": [
    "df.test = False\n",
    "df.test.iloc[[8,2,19,24, 32,33]] = True\n",
    "df.to_csv('flats_info.csv')"
   ]
  },
  {
   "cell_type": "code",
   "execution_count": 236,
   "metadata": {},
   "outputs": [
    {
     "data": {
      "text/html": [
       "<div>\n",
       "<style scoped>\n",
       "    .dataframe tbody tr th:only-of-type {\n",
       "        vertical-align: middle;\n",
       "    }\n",
       "\n",
       "    .dataframe tbody tr th {\n",
       "        vertical-align: top;\n",
       "    }\n",
       "\n",
       "    .dataframe thead th {\n",
       "        text-align: right;\n",
       "    }\n",
       "</style>\n",
       "<table border=\"1\" class=\"dataframe\">\n",
       "  <thead>\n",
       "    <tr style=\"text-align: right;\">\n",
       "      <th></th>\n",
       "      <th>name</th>\n",
       "      <th>area</th>\n",
       "      <th>n_rooms</th>\n",
       "      <th>restroom</th>\n",
       "      <th>studio</th>\n",
       "      <th>storeroom</th>\n",
       "      <th>area_cat</th>\n",
       "      <th>no_livingroom</th>\n",
       "      <th>test</th>\n",
       "    </tr>\n",
       "    <tr>\n",
       "      <th>index</th>\n",
       "      <th></th>\n",
       "      <th></th>\n",
       "      <th></th>\n",
       "      <th></th>\n",
       "      <th></th>\n",
       "      <th></th>\n",
       "      <th></th>\n",
       "      <th></th>\n",
       "      <th></th>\n",
       "    </tr>\n",
       "  </thead>\n",
       "  <tbody>\n",
       "    <tr>\n",
       "      <th>8</th>\n",
       "      <td>3r_73m4_tt_sy</td>\n",
       "      <td>73.40</td>\n",
       "      <td>3</td>\n",
       "      <td>together</td>\n",
       "      <td>True</td>\n",
       "      <td>True</td>\n",
       "      <td>(70, 80]</td>\n",
       "      <td>False</td>\n",
       "      <td>True</td>\n",
       "    </tr>\n",
       "    <tr>\n",
       "      <th>2</th>\n",
       "      <td>3r_91m7_tt_sn</td>\n",
       "      <td>91.70</td>\n",
       "      <td>3</td>\n",
       "      <td>together</td>\n",
       "      <td>False</td>\n",
       "      <td>False</td>\n",
       "      <td>(90, 100]</td>\n",
       "      <td>False</td>\n",
       "      <td>True</td>\n",
       "    </tr>\n",
       "    <tr>\n",
       "      <th>19</th>\n",
       "      <td>2r_61m49_ts_sn</td>\n",
       "      <td>61.49</td>\n",
       "      <td>2</td>\n",
       "      <td>separate</td>\n",
       "      <td>False</td>\n",
       "      <td>False</td>\n",
       "      <td>(60, 70]</td>\n",
       "      <td>False</td>\n",
       "      <td>True</td>\n",
       "    </tr>\n",
       "    <tr>\n",
       "      <th>24</th>\n",
       "      <td>2r_50m2_tt_sy</td>\n",
       "      <td>50.20</td>\n",
       "      <td>2</td>\n",
       "      <td>together</td>\n",
       "      <td>True</td>\n",
       "      <td>True</td>\n",
       "      <td>(50, 60]</td>\n",
       "      <td>True</td>\n",
       "      <td>True</td>\n",
       "    </tr>\n",
       "    <tr>\n",
       "      <th>32</th>\n",
       "      <td>1r_22m9_tt_sy</td>\n",
       "      <td>22.90</td>\n",
       "      <td>1</td>\n",
       "      <td>together</td>\n",
       "      <td>True</td>\n",
       "      <td>False</td>\n",
       "      <td>(20, 30]</td>\n",
       "      <td>False</td>\n",
       "      <td>True</td>\n",
       "    </tr>\n",
       "    <tr>\n",
       "      <th>33</th>\n",
       "      <td>1r_42m2_ts_sn</td>\n",
       "      <td>42.29</td>\n",
       "      <td>1</td>\n",
       "      <td>separate</td>\n",
       "      <td>False</td>\n",
       "      <td>False</td>\n",
       "      <td>(40, 50]</td>\n",
       "      <td>False</td>\n",
       "      <td>True</td>\n",
       "    </tr>\n",
       "  </tbody>\n",
       "</table>\n",
       "</div>"
      ],
      "text/plain": [
       "                 name   area  n_rooms  restroom  studio  storeroom   area_cat  \\\n",
       "index                                                                           \n",
       "8       3r_73m4_tt_sy  73.40        3  together    True       True   (70, 80]   \n",
       "2       3r_91m7_tt_sn  91.70        3  together   False      False  (90, 100]   \n",
       "19     2r_61m49_ts_sn  61.49        2  separate   False      False   (60, 70]   \n",
       "24      2r_50m2_tt_sy  50.20        2  together    True       True   (50, 60]   \n",
       "32      1r_22m9_tt_sy  22.90        1  together    True      False   (20, 30]   \n",
       "33      1r_42m2_ts_sn  42.29        1  separate   False      False   (40, 50]   \n",
       "\n",
       "       no_livingroom  test  \n",
       "index                       \n",
       "8              False  True  \n",
       "2              False  True  \n",
       "19             False  True  \n",
       "24              True  True  \n",
       "32             False  True  \n",
       "33             False  True  "
      ]
     },
     "execution_count": 236,
     "metadata": {},
     "output_type": "execute_result"
    }
   ],
   "source": [
    "df.iloc[[8,2,19,24, 32,33]]"
   ]
  },
  {
   "cell_type": "code",
   "execution_count": 239,
   "metadata": {},
   "outputs": [
    {
     "data": {
      "text/plain": [
       "((42, 9), 6, 36)"
      ]
     },
     "execution_count": 239,
     "metadata": {},
     "output_type": "execute_result"
    }
   ],
   "source": [
    "df.shape, df.test.sum(), (~df.test).sum()"
   ]
  },
  {
   "cell_type": "code",
   "execution_count": 250,
   "metadata": {},
   "outputs": [],
   "source": [
    "# from sklearn.model_selection import StratifiedKFold\n",
    "\n",
    "# cv = StratifiedKFold(n_splits=6, shuffle=True)\n",
    "# df = df[df.test==False]\n",
    "# for train_idx, val_idx in cv.split(df.drop('n_rooms', axis=1), \n",
    "#                                   df.n_rooms):\n",
    "#     print(df.iloc[train_idx].n_rooms.value_counts().sort_index(),\n",
    "#          df.iloc[val_idx].n_rooms.value_counts().sort_index())\n",
    "#     print('-----------')"
   ]
  },
  {
   "cell_type": "code",
   "execution_count": 242,
   "metadata": {},
   "outputs": [
    {
     "data": {
      "text/html": [
       "<div>\n",
       "<style scoped>\n",
       "    .dataframe tbody tr th:only-of-type {\n",
       "        vertical-align: middle;\n",
       "    }\n",
       "\n",
       "    .dataframe tbody tr th {\n",
       "        vertical-align: top;\n",
       "    }\n",
       "\n",
       "    .dataframe thead th {\n",
       "        text-align: right;\n",
       "    }\n",
       "</style>\n",
       "<table border=\"1\" class=\"dataframe\">\n",
       "  <thead>\n",
       "    <tr style=\"text-align: right;\">\n",
       "      <th></th>\n",
       "      <th>name</th>\n",
       "      <th>area</th>\n",
       "      <th>n_rooms</th>\n",
       "      <th>restroom</th>\n",
       "      <th>studio</th>\n",
       "      <th>storeroom</th>\n",
       "      <th>area_cat</th>\n",
       "      <th>no_livingroom</th>\n",
       "      <th>test</th>\n",
       "    </tr>\n",
       "    <tr>\n",
       "      <th>index</th>\n",
       "      <th></th>\n",
       "      <th></th>\n",
       "      <th></th>\n",
       "      <th></th>\n",
       "      <th></th>\n",
       "      <th></th>\n",
       "      <th></th>\n",
       "      <th></th>\n",
       "      <th></th>\n",
       "    </tr>\n",
       "  </thead>\n",
       "  <tbody>\n",
       "    <tr>\n",
       "      <th>0</th>\n",
       "      <td>3r_73m3_ts_sy</td>\n",
       "      <td>73.30</td>\n",
       "      <td>3</td>\n",
       "      <td>separate</td>\n",
       "      <td>True</td>\n",
       "      <td>True</td>\n",
       "      <td>(70, 80]</td>\n",
       "      <td>False</td>\n",
       "      <td>0.0</td>\n",
       "    </tr>\n",
       "    <tr>\n",
       "      <th>1</th>\n",
       "      <td>3r_115m05_ts_sy</td>\n",
       "      <td>113.57</td>\n",
       "      <td>3</td>\n",
       "      <td>separate</td>\n",
       "      <td>True</td>\n",
       "      <td>False</td>\n",
       "      <td>(110, 120]</td>\n",
       "      <td>False</td>\n",
       "      <td>0.0</td>\n",
       "    </tr>\n",
       "    <tr>\n",
       "      <th>2</th>\n",
       "      <td>3r_91m7_tt_sn</td>\n",
       "      <td>91.70</td>\n",
       "      <td>3</td>\n",
       "      <td>together</td>\n",
       "      <td>False</td>\n",
       "      <td>False</td>\n",
       "      <td>(90, 100]</td>\n",
       "      <td>False</td>\n",
       "      <td>1.0</td>\n",
       "    </tr>\n",
       "    <tr>\n",
       "      <th>3</th>\n",
       "      <td>3r_77m4_ts_sy</td>\n",
       "      <td>77.40</td>\n",
       "      <td>3</td>\n",
       "      <td>2rooms</td>\n",
       "      <td>True</td>\n",
       "      <td>True</td>\n",
       "      <td>(70, 80]</td>\n",
       "      <td>False</td>\n",
       "      <td>0.0</td>\n",
       "    </tr>\n",
       "    <tr>\n",
       "      <th>4</th>\n",
       "      <td>3r_65m2_ts_sn</td>\n",
       "      <td>65.20</td>\n",
       "      <td>3</td>\n",
       "      <td>separate</td>\n",
       "      <td>False</td>\n",
       "      <td>False</td>\n",
       "      <td>(60, 70]</td>\n",
       "      <td>False</td>\n",
       "      <td>0.0</td>\n",
       "    </tr>\n",
       "    <tr>\n",
       "      <th>5</th>\n",
       "      <td>3r_74m48_ts_sn</td>\n",
       "      <td>74.48</td>\n",
       "      <td>3</td>\n",
       "      <td>separate</td>\n",
       "      <td>False</td>\n",
       "      <td>False</td>\n",
       "      <td>(70, 80]</td>\n",
       "      <td>False</td>\n",
       "      <td>0.0</td>\n",
       "    </tr>\n",
       "    <tr>\n",
       "      <th>6</th>\n",
       "      <td>3r_90m3_ts_sn</td>\n",
       "      <td>90.30</td>\n",
       "      <td>3</td>\n",
       "      <td>2rooms</td>\n",
       "      <td>False</td>\n",
       "      <td>True</td>\n",
       "      <td>(90, 100]</td>\n",
       "      <td>False</td>\n",
       "      <td>0.0</td>\n",
       "    </tr>\n",
       "    <tr>\n",
       "      <th>7</th>\n",
       "      <td>3r_82m28_ts_sy</td>\n",
       "      <td>82.28</td>\n",
       "      <td>3</td>\n",
       "      <td>separate</td>\n",
       "      <td>False</td>\n",
       "      <td>False</td>\n",
       "      <td>(80, 90]</td>\n",
       "      <td>False</td>\n",
       "      <td>0.0</td>\n",
       "    </tr>\n",
       "    <tr>\n",
       "      <th>8</th>\n",
       "      <td>3r_73m4_tt_sy</td>\n",
       "      <td>73.40</td>\n",
       "      <td>3</td>\n",
       "      <td>together</td>\n",
       "      <td>True</td>\n",
       "      <td>True</td>\n",
       "      <td>(70, 80]</td>\n",
       "      <td>False</td>\n",
       "      <td>1.0</td>\n",
       "    </tr>\n",
       "    <tr>\n",
       "      <th>9</th>\n",
       "      <td>3r_84m23_ts_sy</td>\n",
       "      <td>84.23</td>\n",
       "      <td>3</td>\n",
       "      <td>2rooms</td>\n",
       "      <td>True</td>\n",
       "      <td>True</td>\n",
       "      <td>(80, 90]</td>\n",
       "      <td>False</td>\n",
       "      <td>0.0</td>\n",
       "    </tr>\n",
       "    <tr>\n",
       "      <th>10</th>\n",
       "      <td>3r_81m36_tt_sn</td>\n",
       "      <td>81.36</td>\n",
       "      <td>3</td>\n",
       "      <td>together</td>\n",
       "      <td>False</td>\n",
       "      <td>False</td>\n",
       "      <td>(80, 90]</td>\n",
       "      <td>False</td>\n",
       "      <td>0.0</td>\n",
       "    </tr>\n",
       "    <tr>\n",
       "      <th>11</th>\n",
       "      <td>3r_46m8_tt_sy</td>\n",
       "      <td>46.80</td>\n",
       "      <td>3</td>\n",
       "      <td>together</td>\n",
       "      <td>True</td>\n",
       "      <td>False</td>\n",
       "      <td>(40, 50]</td>\n",
       "      <td>False</td>\n",
       "      <td>0.0</td>\n",
       "    </tr>\n",
       "    <tr>\n",
       "      <th>12</th>\n",
       "      <td>3r_72m2_tt_sy</td>\n",
       "      <td>72.20</td>\n",
       "      <td>3</td>\n",
       "      <td>together</td>\n",
       "      <td>True</td>\n",
       "      <td>True</td>\n",
       "      <td>(70, 80]</td>\n",
       "      <td>False</td>\n",
       "      <td>0.0</td>\n",
       "    </tr>\n",
       "    <tr>\n",
       "      <th>13</th>\n",
       "      <td>3r_126m09_ts_sn</td>\n",
       "      <td>126.09</td>\n",
       "      <td>3</td>\n",
       "      <td>2rooms</td>\n",
       "      <td>False</td>\n",
       "      <td>True</td>\n",
       "      <td>(120, 130]</td>\n",
       "      <td>False</td>\n",
       "      <td>0.0</td>\n",
       "    </tr>\n",
       "    <tr>\n",
       "      <th>14</th>\n",
       "      <td>2r_57m49_tt_sn</td>\n",
       "      <td>57.09</td>\n",
       "      <td>2</td>\n",
       "      <td>together</td>\n",
       "      <td>False</td>\n",
       "      <td>False</td>\n",
       "      <td>(50, 60]</td>\n",
       "      <td>True</td>\n",
       "      <td>0.0</td>\n",
       "    </tr>\n",
       "    <tr>\n",
       "      <th>15</th>\n",
       "      <td>2r_64m86_ts_sn</td>\n",
       "      <td>64.86</td>\n",
       "      <td>2</td>\n",
       "      <td>separate</td>\n",
       "      <td>False</td>\n",
       "      <td>True</td>\n",
       "      <td>(60, 70]</td>\n",
       "      <td>False</td>\n",
       "      <td>0.0</td>\n",
       "    </tr>\n",
       "    <tr>\n",
       "      <th>16</th>\n",
       "      <td>2r_42m52_tt_sy</td>\n",
       "      <td>42.52</td>\n",
       "      <td>2</td>\n",
       "      <td>together</td>\n",
       "      <td>True</td>\n",
       "      <td>True</td>\n",
       "      <td>(40, 50]</td>\n",
       "      <td>False</td>\n",
       "      <td>0.0</td>\n",
       "    </tr>\n",
       "    <tr>\n",
       "      <th>17</th>\n",
       "      <td>2r_58m94_tt_sn</td>\n",
       "      <td>58.94</td>\n",
       "      <td>2</td>\n",
       "      <td>together</td>\n",
       "      <td>False</td>\n",
       "      <td>True</td>\n",
       "      <td>(50, 60]</td>\n",
       "      <td>False</td>\n",
       "      <td>0.0</td>\n",
       "    </tr>\n",
       "    <tr>\n",
       "      <th>18</th>\n",
       "      <td>2r_38m54_tt_sy</td>\n",
       "      <td>38.54</td>\n",
       "      <td>2</td>\n",
       "      <td>together</td>\n",
       "      <td>True</td>\n",
       "      <td>False</td>\n",
       "      <td>(30, 40]</td>\n",
       "      <td>False</td>\n",
       "      <td>0.0</td>\n",
       "    </tr>\n",
       "    <tr>\n",
       "      <th>19</th>\n",
       "      <td>2r_61m49_ts_sn</td>\n",
       "      <td>61.49</td>\n",
       "      <td>2</td>\n",
       "      <td>separate</td>\n",
       "      <td>False</td>\n",
       "      <td>False</td>\n",
       "      <td>(60, 70]</td>\n",
       "      <td>False</td>\n",
       "      <td>1.0</td>\n",
       "    </tr>\n",
       "    <tr>\n",
       "      <th>20</th>\n",
       "      <td>2r_71m34_ts_sn</td>\n",
       "      <td>71.34</td>\n",
       "      <td>2</td>\n",
       "      <td>separate</td>\n",
       "      <td>False</td>\n",
       "      <td>False</td>\n",
       "      <td>(70, 80]</td>\n",
       "      <td>False</td>\n",
       "      <td>0.0</td>\n",
       "    </tr>\n",
       "    <tr>\n",
       "      <th>21</th>\n",
       "      <td>2r_46m9_tt_sy</td>\n",
       "      <td>46.90</td>\n",
       "      <td>2</td>\n",
       "      <td>together</td>\n",
       "      <td>True</td>\n",
       "      <td>False</td>\n",
       "      <td>(40, 50]</td>\n",
       "      <td>False</td>\n",
       "      <td>0.0</td>\n",
       "    </tr>\n",
       "    <tr>\n",
       "      <th>22</th>\n",
       "      <td>2r_61m38_tt_sn</td>\n",
       "      <td>61.38</td>\n",
       "      <td>2</td>\n",
       "      <td>together</td>\n",
       "      <td>False</td>\n",
       "      <td>True</td>\n",
       "      <td>(60, 70]</td>\n",
       "      <td>True</td>\n",
       "      <td>0.0</td>\n",
       "    </tr>\n",
       "    <tr>\n",
       "      <th>23</th>\n",
       "      <td>2r_47m98_tt_sn</td>\n",
       "      <td>47.98</td>\n",
       "      <td>2</td>\n",
       "      <td>together</td>\n",
       "      <td>False</td>\n",
       "      <td>False</td>\n",
       "      <td>(40, 50]</td>\n",
       "      <td>True</td>\n",
       "      <td>0.0</td>\n",
       "    </tr>\n",
       "    <tr>\n",
       "      <th>24</th>\n",
       "      <td>2r_50m2_tt_sy</td>\n",
       "      <td>50.20</td>\n",
       "      <td>2</td>\n",
       "      <td>together</td>\n",
       "      <td>True</td>\n",
       "      <td>True</td>\n",
       "      <td>(50, 60]</td>\n",
       "      <td>True</td>\n",
       "      <td>1.0</td>\n",
       "    </tr>\n",
       "    <tr>\n",
       "      <th>25</th>\n",
       "      <td>2r_57m36_ts_sn</td>\n",
       "      <td>57.36</td>\n",
       "      <td>2</td>\n",
       "      <td>separate</td>\n",
       "      <td>False</td>\n",
       "      <td>False</td>\n",
       "      <td>(50, 60]</td>\n",
       "      <td>True</td>\n",
       "      <td>0.0</td>\n",
       "    </tr>\n",
       "    <tr>\n",
       "      <th>26</th>\n",
       "      <td>2r_64m88_ts_sn</td>\n",
       "      <td>64.88</td>\n",
       "      <td>2</td>\n",
       "      <td>separate</td>\n",
       "      <td>False</td>\n",
       "      <td>True</td>\n",
       "      <td>(60, 70]</td>\n",
       "      <td>True</td>\n",
       "      <td>0.0</td>\n",
       "    </tr>\n",
       "    <tr>\n",
       "      <th>27</th>\n",
       "      <td>2r_50m48_tt_sy</td>\n",
       "      <td>50.48</td>\n",
       "      <td>2</td>\n",
       "      <td>together</td>\n",
       "      <td>True</td>\n",
       "      <td>False</td>\n",
       "      <td>(50, 60]</td>\n",
       "      <td>False</td>\n",
       "      <td>0.0</td>\n",
       "    </tr>\n",
       "    <tr>\n",
       "      <th>28</th>\n",
       "      <td>1r_40m65_tt_sn</td>\n",
       "      <td>40.65</td>\n",
       "      <td>1</td>\n",
       "      <td>together</td>\n",
       "      <td>False</td>\n",
       "      <td>True</td>\n",
       "      <td>(40, 50]</td>\n",
       "      <td>True</td>\n",
       "      <td>0.0</td>\n",
       "    </tr>\n",
       "    <tr>\n",
       "      <th>29</th>\n",
       "      <td>1r_45m95_tt_sn</td>\n",
       "      <td>45.95</td>\n",
       "      <td>1</td>\n",
       "      <td>together</td>\n",
       "      <td>False</td>\n",
       "      <td>True</td>\n",
       "      <td>(40, 50]</td>\n",
       "      <td>False</td>\n",
       "      <td>0.0</td>\n",
       "    </tr>\n",
       "    <tr>\n",
       "      <th>30</th>\n",
       "      <td>1r_47m4_tt_sn</td>\n",
       "      <td>47.40</td>\n",
       "      <td>1</td>\n",
       "      <td>together</td>\n",
       "      <td>False</td>\n",
       "      <td>False</td>\n",
       "      <td>(40, 50]</td>\n",
       "      <td>False</td>\n",
       "      <td>0.0</td>\n",
       "    </tr>\n",
       "    <tr>\n",
       "      <th>31</th>\n",
       "      <td>1r_30m1_tt_sn</td>\n",
       "      <td>30.10</td>\n",
       "      <td>1</td>\n",
       "      <td>together</td>\n",
       "      <td>False</td>\n",
       "      <td>False</td>\n",
       "      <td>(30, 40]</td>\n",
       "      <td>False</td>\n",
       "      <td>0.0</td>\n",
       "    </tr>\n",
       "    <tr>\n",
       "      <th>32</th>\n",
       "      <td>1r_22m9_tt_sy</td>\n",
       "      <td>22.90</td>\n",
       "      <td>1</td>\n",
       "      <td>together</td>\n",
       "      <td>True</td>\n",
       "      <td>False</td>\n",
       "      <td>(20, 30]</td>\n",
       "      <td>False</td>\n",
       "      <td>1.0</td>\n",
       "    </tr>\n",
       "    <tr>\n",
       "      <th>33</th>\n",
       "      <td>1r_42m2_ts_sn</td>\n",
       "      <td>42.29</td>\n",
       "      <td>1</td>\n",
       "      <td>separate</td>\n",
       "      <td>False</td>\n",
       "      <td>False</td>\n",
       "      <td>(40, 50]</td>\n",
       "      <td>False</td>\n",
       "      <td>1.0</td>\n",
       "    </tr>\n",
       "    <tr>\n",
       "      <th>34</th>\n",
       "      <td>1r_37m34_ts_sn</td>\n",
       "      <td>37.34</td>\n",
       "      <td>1</td>\n",
       "      <td>separate</td>\n",
       "      <td>False</td>\n",
       "      <td>False</td>\n",
       "      <td>(30, 40]</td>\n",
       "      <td>False</td>\n",
       "      <td>0.0</td>\n",
       "    </tr>\n",
       "    <tr>\n",
       "      <th>35</th>\n",
       "      <td>1r_33m4_tt_sy</td>\n",
       "      <td>33.40</td>\n",
       "      <td>1</td>\n",
       "      <td>together</td>\n",
       "      <td>True</td>\n",
       "      <td>False</td>\n",
       "      <td>(30, 40]</td>\n",
       "      <td>False</td>\n",
       "      <td>0.0</td>\n",
       "    </tr>\n",
       "    <tr>\n",
       "      <th>36</th>\n",
       "      <td>1r_28m43_tt_sy</td>\n",
       "      <td>28.43</td>\n",
       "      <td>1</td>\n",
       "      <td>together</td>\n",
       "      <td>True</td>\n",
       "      <td>False</td>\n",
       "      <td>(20, 30]</td>\n",
       "      <td>False</td>\n",
       "      <td>0.0</td>\n",
       "    </tr>\n",
       "    <tr>\n",
       "      <th>37</th>\n",
       "      <td>1r_44m37_tt_sy</td>\n",
       "      <td>44.37</td>\n",
       "      <td>1</td>\n",
       "      <td>together</td>\n",
       "      <td>True</td>\n",
       "      <td>False</td>\n",
       "      <td>(40, 50]</td>\n",
       "      <td>False</td>\n",
       "      <td>0.0</td>\n",
       "    </tr>\n",
       "    <tr>\n",
       "      <th>38</th>\n",
       "      <td>1r_38m7_tt_sy</td>\n",
       "      <td>38.77</td>\n",
       "      <td>1</td>\n",
       "      <td>together</td>\n",
       "      <td>True</td>\n",
       "      <td>False</td>\n",
       "      <td>(30, 40]</td>\n",
       "      <td>False</td>\n",
       "      <td>0.0</td>\n",
       "    </tr>\n",
       "    <tr>\n",
       "      <th>39</th>\n",
       "      <td>1r_31m14_tt_sy</td>\n",
       "      <td>31.14</td>\n",
       "      <td>1</td>\n",
       "      <td>together</td>\n",
       "      <td>True</td>\n",
       "      <td>False</td>\n",
       "      <td>(30, 40]</td>\n",
       "      <td>False</td>\n",
       "      <td>0.0</td>\n",
       "    </tr>\n",
       "    <tr>\n",
       "      <th>40</th>\n",
       "      <td>1r_34m6_tt_sn</td>\n",
       "      <td>34.60</td>\n",
       "      <td>1</td>\n",
       "      <td>together</td>\n",
       "      <td>False</td>\n",
       "      <td>False</td>\n",
       "      <td>(30, 40]</td>\n",
       "      <td>False</td>\n",
       "      <td>0.0</td>\n",
       "    </tr>\n",
       "    <tr>\n",
       "      <th>41</th>\n",
       "      <td>1r_43m8_tt_sn</td>\n",
       "      <td>43.80</td>\n",
       "      <td>1</td>\n",
       "      <td>together</td>\n",
       "      <td>False</td>\n",
       "      <td>True</td>\n",
       "      <td>(40, 50]</td>\n",
       "      <td>False</td>\n",
       "      <td>0.0</td>\n",
       "    </tr>\n",
       "    <tr>\n",
       "      <th>42</th>\n",
       "      <td>1r_43m8_tt_sn</td>\n",
       "      <td>43.80</td>\n",
       "      <td>1</td>\n",
       "      <td>together</td>\n",
       "      <td>False</td>\n",
       "      <td>True</td>\n",
       "      <td>(40, 50]</td>\n",
       "      <td>False</td>\n",
       "      <td>NaN</td>\n",
       "    </tr>\n",
       "  </tbody>\n",
       "</table>\n",
       "</div>"
      ],
      "text/plain": [
       "                  name    area  n_rooms  restroom  studio  storeroom  \\\n",
       "index                                                                  \n",
       "0        3r_73m3_ts_sy   73.30        3  separate    True       True   \n",
       "1      3r_115m05_ts_sy  113.57        3  separate    True      False   \n",
       "2        3r_91m7_tt_sn   91.70        3  together   False      False   \n",
       "3        3r_77m4_ts_sy   77.40        3    2rooms    True       True   \n",
       "4        3r_65m2_ts_sn   65.20        3  separate   False      False   \n",
       "5       3r_74m48_ts_sn   74.48        3  separate   False      False   \n",
       "6        3r_90m3_ts_sn   90.30        3    2rooms   False       True   \n",
       "7       3r_82m28_ts_sy   82.28        3  separate   False      False   \n",
       "8        3r_73m4_tt_sy   73.40        3  together    True       True   \n",
       "9       3r_84m23_ts_sy   84.23        3    2rooms    True       True   \n",
       "10      3r_81m36_tt_sn   81.36        3  together   False      False   \n",
       "11       3r_46m8_tt_sy   46.80        3  together    True      False   \n",
       "12       3r_72m2_tt_sy   72.20        3  together    True       True   \n",
       "13     3r_126m09_ts_sn  126.09        3    2rooms   False       True   \n",
       "14      2r_57m49_tt_sn   57.09        2  together   False      False   \n",
       "15      2r_64m86_ts_sn   64.86        2  separate   False       True   \n",
       "16      2r_42m52_tt_sy   42.52        2  together    True       True   \n",
       "17      2r_58m94_tt_sn   58.94        2  together   False       True   \n",
       "18      2r_38m54_tt_sy   38.54        2  together    True      False   \n",
       "19      2r_61m49_ts_sn   61.49        2  separate   False      False   \n",
       "20      2r_71m34_ts_sn   71.34        2  separate   False      False   \n",
       "21       2r_46m9_tt_sy   46.90        2  together    True      False   \n",
       "22      2r_61m38_tt_sn   61.38        2  together   False       True   \n",
       "23      2r_47m98_tt_sn   47.98        2  together   False      False   \n",
       "24       2r_50m2_tt_sy   50.20        2  together    True       True   \n",
       "25      2r_57m36_ts_sn   57.36        2  separate   False      False   \n",
       "26      2r_64m88_ts_sn   64.88        2  separate   False       True   \n",
       "27      2r_50m48_tt_sy   50.48        2  together    True      False   \n",
       "28      1r_40m65_tt_sn   40.65        1  together   False       True   \n",
       "29      1r_45m95_tt_sn   45.95        1  together   False       True   \n",
       "30       1r_47m4_tt_sn   47.40        1  together   False      False   \n",
       "31       1r_30m1_tt_sn   30.10        1  together   False      False   \n",
       "32       1r_22m9_tt_sy   22.90        1  together    True      False   \n",
       "33       1r_42m2_ts_sn   42.29        1  separate   False      False   \n",
       "34      1r_37m34_ts_sn   37.34        1  separate   False      False   \n",
       "35       1r_33m4_tt_sy   33.40        1  together    True      False   \n",
       "36      1r_28m43_tt_sy   28.43        1  together    True      False   \n",
       "37      1r_44m37_tt_sy   44.37        1  together    True      False   \n",
       "38       1r_38m7_tt_sy   38.77        1  together    True      False   \n",
       "39      1r_31m14_tt_sy   31.14        1  together    True      False   \n",
       "40       1r_34m6_tt_sn   34.60        1  together   False      False   \n",
       "41       1r_43m8_tt_sn   43.80        1  together   False       True   \n",
       "42       1r_43m8_tt_sn   43.80        1  together   False       True   \n",
       "\n",
       "         area_cat  no_livingroom  test  \n",
       "index                                   \n",
       "0        (70, 80]          False   0.0  \n",
       "1      (110, 120]          False   0.0  \n",
       "2       (90, 100]          False   1.0  \n",
       "3        (70, 80]          False   0.0  \n",
       "4        (60, 70]          False   0.0  \n",
       "5        (70, 80]          False   0.0  \n",
       "6       (90, 100]          False   0.0  \n",
       "7        (80, 90]          False   0.0  \n",
       "8        (70, 80]          False   1.0  \n",
       "9        (80, 90]          False   0.0  \n",
       "10       (80, 90]          False   0.0  \n",
       "11       (40, 50]          False   0.0  \n",
       "12       (70, 80]          False   0.0  \n",
       "13     (120, 130]          False   0.0  \n",
       "14       (50, 60]           True   0.0  \n",
       "15       (60, 70]          False   0.0  \n",
       "16       (40, 50]          False   0.0  \n",
       "17       (50, 60]          False   0.0  \n",
       "18       (30, 40]          False   0.0  \n",
       "19       (60, 70]          False   1.0  \n",
       "20       (70, 80]          False   0.0  \n",
       "21       (40, 50]          False   0.0  \n",
       "22       (60, 70]           True   0.0  \n",
       "23       (40, 50]           True   0.0  \n",
       "24       (50, 60]           True   1.0  \n",
       "25       (50, 60]           True   0.0  \n",
       "26       (60, 70]           True   0.0  \n",
       "27       (50, 60]          False   0.0  \n",
       "28       (40, 50]           True   0.0  \n",
       "29       (40, 50]          False   0.0  \n",
       "30       (40, 50]          False   0.0  \n",
       "31       (30, 40]          False   0.0  \n",
       "32       (20, 30]          False   1.0  \n",
       "33       (40, 50]          False   1.0  \n",
       "34       (30, 40]          False   0.0  \n",
       "35       (30, 40]          False   0.0  \n",
       "36       (20, 30]          False   0.0  \n",
       "37       (40, 50]          False   0.0  \n",
       "38       (30, 40]          False   0.0  \n",
       "39       (30, 40]          False   0.0  \n",
       "40       (30, 40]          False   0.0  \n",
       "41       (40, 50]          False   0.0  \n",
       "42       (40, 50]          False   NaN  "
      ]
     },
     "execution_count": 242,
     "metadata": {},
     "output_type": "execute_result"
    }
   ],
   "source": [
    "to_add = {'name': '1r_43m8_tt_sn',\n",
    "          'area': 43.8,\n",
    "         'n_rooms': 1,\n",
    "         'restroom': 'together',\n",
    "         'studio': False,\n",
    "         'storeroom': True,\n",
    "         'no_livingroom' : False}\n",
    "df = df.append(to_add, ignore_index=True)\n",
    "df.index.name = 'index'\n",
    "df['area_cat'] = pd.cut(df.area, \n",
    "                        range(10, 160, 10))\n",
    "df.to_csv('flats_info.csv')\n",
    "df"
   ]
  },
  {
   "cell_type": "code",
   "execution_count": 225,
   "metadata": {},
   "outputs": [],
   "source": [
    "# df.no_livingroom.loc[28] = True\n",
    "# df"
   ]
  },
  {
   "cell_type": "code",
   "execution_count": 226,
   "metadata": {},
   "outputs": [
    {
     "name": "stdout",
     "output_type": "stream",
     "text": [
      "together    26\n",
      "separate    12\n",
      "2rooms       4\n",
      "Name: restroom, dtype: int64\n",
      "False    24\n",
      "True     18\n",
      "Name: studio, dtype: int64\n",
      "False    26\n",
      "True     16\n",
      "Name: storeroom, dtype: int64\n"
     ]
    }
   ],
   "source": [
    "features = ['restroom', 'studio', 'storeroom']\n",
    "for f in features:\n",
    "    print(df[f].value_counts())"
   ]
  },
  {
   "cell_type": "code",
   "execution_count": 227,
   "metadata": {},
   "outputs": [
    {
     "data": {
      "application/vnd.plotly.v1+json": {
       "config": {
        "plotlyServerURL": "https://plot.ly"
       },
       "data": [
        {
         "domain": {
          "x": [
           0,
           0.45
          ],
          "y": [
           0.625,
           1
          ]
         },
         "labels": [
          "together",
          "separate"
         ],
         "type": "pie",
         "values": [
          12,
          2
         ]
        },
        {
         "domain": {
          "x": [
           0.55,
           1
          ],
          "y": [
           0.625,
           1
          ]
         },
         "labels": [
          false,
          true
         ],
         "type": "pie",
         "values": [
          8,
          6
         ]
        },
        {
         "domain": {
          "x": [
           0,
           0.45
          ],
          "y": [
           0,
           0.375
          ]
         },
         "labels": [
          false,
          true
         ],
         "type": "pie",
         "values": [
          11,
          3
         ]
        },
        {
         "type": "histogram",
         "x": [
          "(20, 30]",
          "(20, 30]",
          "(30, 40]",
          "(30, 40]",
          "(30, 40]",
          "(30, 40]",
          "(30, 40]",
          "(30, 40]",
          "(40, 50]",
          "(40, 50]",
          "(40, 50]",
          "(40, 50]",
          "(40, 50]",
          "(40, 50]"
         ],
         "xaxis": "x",
         "yaxis": "y"
        }
       ],
       "layout": {
        "annotations": [
         {
          "font": {
           "size": 16
          },
          "showarrow": false,
          "text": "Restroom",
          "x": 0.225,
          "xanchor": "center",
          "xref": "paper",
          "y": 1,
          "yanchor": "bottom",
          "yref": "paper"
         },
         {
          "font": {
           "size": 16
          },
          "showarrow": false,
          "text": "Studio",
          "x": 0.775,
          "xanchor": "center",
          "xref": "paper",
          "y": 1,
          "yanchor": "bottom",
          "yref": "paper"
         },
         {
          "font": {
           "size": 16
          },
          "showarrow": false,
          "text": "Storeroom",
          "x": 0.225,
          "xanchor": "center",
          "xref": "paper",
          "y": 0.375,
          "yanchor": "bottom",
          "yref": "paper"
         },
         {
          "font": {
           "size": 16
          },
          "showarrow": false,
          "text": "Area",
          "x": 0.775,
          "xanchor": "center",
          "xref": "paper",
          "y": 0.375,
          "yanchor": "bottom",
          "yref": "paper"
         }
        ],
        "template": {
         "data": {
          "bar": [
           {
            "error_x": {
             "color": "#2a3f5f"
            },
            "error_y": {
             "color": "#2a3f5f"
            },
            "marker": {
             "line": {
              "color": "#E5ECF6",
              "width": 0.5
             }
            },
            "type": "bar"
           }
          ],
          "barpolar": [
           {
            "marker": {
             "line": {
              "color": "#E5ECF6",
              "width": 0.5
             }
            },
            "type": "barpolar"
           }
          ],
          "carpet": [
           {
            "aaxis": {
             "endlinecolor": "#2a3f5f",
             "gridcolor": "white",
             "linecolor": "white",
             "minorgridcolor": "white",
             "startlinecolor": "#2a3f5f"
            },
            "baxis": {
             "endlinecolor": "#2a3f5f",
             "gridcolor": "white",
             "linecolor": "white",
             "minorgridcolor": "white",
             "startlinecolor": "#2a3f5f"
            },
            "type": "carpet"
           }
          ],
          "choropleth": [
           {
            "colorbar": {
             "outlinewidth": 0,
             "ticks": ""
            },
            "type": "choropleth"
           }
          ],
          "contour": [
           {
            "colorbar": {
             "outlinewidth": 0,
             "ticks": ""
            },
            "colorscale": [
             [
              0,
              "#0d0887"
             ],
             [
              0.1111111111111111,
              "#46039f"
             ],
             [
              0.2222222222222222,
              "#7201a8"
             ],
             [
              0.3333333333333333,
              "#9c179e"
             ],
             [
              0.4444444444444444,
              "#bd3786"
             ],
             [
              0.5555555555555556,
              "#d8576b"
             ],
             [
              0.6666666666666666,
              "#ed7953"
             ],
             [
              0.7777777777777778,
              "#fb9f3a"
             ],
             [
              0.8888888888888888,
              "#fdca26"
             ],
             [
              1,
              "#f0f921"
             ]
            ],
            "type": "contour"
           }
          ],
          "contourcarpet": [
           {
            "colorbar": {
             "outlinewidth": 0,
             "ticks": ""
            },
            "type": "contourcarpet"
           }
          ],
          "heatmap": [
           {
            "colorbar": {
             "outlinewidth": 0,
             "ticks": ""
            },
            "colorscale": [
             [
              0,
              "#0d0887"
             ],
             [
              0.1111111111111111,
              "#46039f"
             ],
             [
              0.2222222222222222,
              "#7201a8"
             ],
             [
              0.3333333333333333,
              "#9c179e"
             ],
             [
              0.4444444444444444,
              "#bd3786"
             ],
             [
              0.5555555555555556,
              "#d8576b"
             ],
             [
              0.6666666666666666,
              "#ed7953"
             ],
             [
              0.7777777777777778,
              "#fb9f3a"
             ],
             [
              0.8888888888888888,
              "#fdca26"
             ],
             [
              1,
              "#f0f921"
             ]
            ],
            "type": "heatmap"
           }
          ],
          "heatmapgl": [
           {
            "colorbar": {
             "outlinewidth": 0,
             "ticks": ""
            },
            "colorscale": [
             [
              0,
              "#0d0887"
             ],
             [
              0.1111111111111111,
              "#46039f"
             ],
             [
              0.2222222222222222,
              "#7201a8"
             ],
             [
              0.3333333333333333,
              "#9c179e"
             ],
             [
              0.4444444444444444,
              "#bd3786"
             ],
             [
              0.5555555555555556,
              "#d8576b"
             ],
             [
              0.6666666666666666,
              "#ed7953"
             ],
             [
              0.7777777777777778,
              "#fb9f3a"
             ],
             [
              0.8888888888888888,
              "#fdca26"
             ],
             [
              1,
              "#f0f921"
             ]
            ],
            "type": "heatmapgl"
           }
          ],
          "histogram": [
           {
            "marker": {
             "colorbar": {
              "outlinewidth": 0,
              "ticks": ""
             }
            },
            "type": "histogram"
           }
          ],
          "histogram2d": [
           {
            "colorbar": {
             "outlinewidth": 0,
             "ticks": ""
            },
            "colorscale": [
             [
              0,
              "#0d0887"
             ],
             [
              0.1111111111111111,
              "#46039f"
             ],
             [
              0.2222222222222222,
              "#7201a8"
             ],
             [
              0.3333333333333333,
              "#9c179e"
             ],
             [
              0.4444444444444444,
              "#bd3786"
             ],
             [
              0.5555555555555556,
              "#d8576b"
             ],
             [
              0.6666666666666666,
              "#ed7953"
             ],
             [
              0.7777777777777778,
              "#fb9f3a"
             ],
             [
              0.8888888888888888,
              "#fdca26"
             ],
             [
              1,
              "#f0f921"
             ]
            ],
            "type": "histogram2d"
           }
          ],
          "histogram2dcontour": [
           {
            "colorbar": {
             "outlinewidth": 0,
             "ticks": ""
            },
            "colorscale": [
             [
              0,
              "#0d0887"
             ],
             [
              0.1111111111111111,
              "#46039f"
             ],
             [
              0.2222222222222222,
              "#7201a8"
             ],
             [
              0.3333333333333333,
              "#9c179e"
             ],
             [
              0.4444444444444444,
              "#bd3786"
             ],
             [
              0.5555555555555556,
              "#d8576b"
             ],
             [
              0.6666666666666666,
              "#ed7953"
             ],
             [
              0.7777777777777778,
              "#fb9f3a"
             ],
             [
              0.8888888888888888,
              "#fdca26"
             ],
             [
              1,
              "#f0f921"
             ]
            ],
            "type": "histogram2dcontour"
           }
          ],
          "mesh3d": [
           {
            "colorbar": {
             "outlinewidth": 0,
             "ticks": ""
            },
            "type": "mesh3d"
           }
          ],
          "parcoords": [
           {
            "line": {
             "colorbar": {
              "outlinewidth": 0,
              "ticks": ""
             }
            },
            "type": "parcoords"
           }
          ],
          "pie": [
           {
            "automargin": true,
            "type": "pie"
           }
          ],
          "scatter": [
           {
            "marker": {
             "colorbar": {
              "outlinewidth": 0,
              "ticks": ""
             }
            },
            "type": "scatter"
           }
          ],
          "scatter3d": [
           {
            "line": {
             "colorbar": {
              "outlinewidth": 0,
              "ticks": ""
             }
            },
            "marker": {
             "colorbar": {
              "outlinewidth": 0,
              "ticks": ""
             }
            },
            "type": "scatter3d"
           }
          ],
          "scattercarpet": [
           {
            "marker": {
             "colorbar": {
              "outlinewidth": 0,
              "ticks": ""
             }
            },
            "type": "scattercarpet"
           }
          ],
          "scattergeo": [
           {
            "marker": {
             "colorbar": {
              "outlinewidth": 0,
              "ticks": ""
             }
            },
            "type": "scattergeo"
           }
          ],
          "scattergl": [
           {
            "marker": {
             "colorbar": {
              "outlinewidth": 0,
              "ticks": ""
             }
            },
            "type": "scattergl"
           }
          ],
          "scattermapbox": [
           {
            "marker": {
             "colorbar": {
              "outlinewidth": 0,
              "ticks": ""
             }
            },
            "type": "scattermapbox"
           }
          ],
          "scatterpolar": [
           {
            "marker": {
             "colorbar": {
              "outlinewidth": 0,
              "ticks": ""
             }
            },
            "type": "scatterpolar"
           }
          ],
          "scatterpolargl": [
           {
            "marker": {
             "colorbar": {
              "outlinewidth": 0,
              "ticks": ""
             }
            },
            "type": "scatterpolargl"
           }
          ],
          "scatterternary": [
           {
            "marker": {
             "colorbar": {
              "outlinewidth": 0,
              "ticks": ""
             }
            },
            "type": "scatterternary"
           }
          ],
          "surface": [
           {
            "colorbar": {
             "outlinewidth": 0,
             "ticks": ""
            },
            "colorscale": [
             [
              0,
              "#0d0887"
             ],
             [
              0.1111111111111111,
              "#46039f"
             ],
             [
              0.2222222222222222,
              "#7201a8"
             ],
             [
              0.3333333333333333,
              "#9c179e"
             ],
             [
              0.4444444444444444,
              "#bd3786"
             ],
             [
              0.5555555555555556,
              "#d8576b"
             ],
             [
              0.6666666666666666,
              "#ed7953"
             ],
             [
              0.7777777777777778,
              "#fb9f3a"
             ],
             [
              0.8888888888888888,
              "#fdca26"
             ],
             [
              1,
              "#f0f921"
             ]
            ],
            "type": "surface"
           }
          ],
          "table": [
           {
            "cells": {
             "fill": {
              "color": "#EBF0F8"
             },
             "line": {
              "color": "white"
             }
            },
            "header": {
             "fill": {
              "color": "#C8D4E3"
             },
             "line": {
              "color": "white"
             }
            },
            "type": "table"
           }
          ]
         },
         "layout": {
          "annotationdefaults": {
           "arrowcolor": "#2a3f5f",
           "arrowhead": 0,
           "arrowwidth": 1
          },
          "coloraxis": {
           "colorbar": {
            "outlinewidth": 0,
            "ticks": ""
           }
          },
          "colorscale": {
           "diverging": [
            [
             0,
             "#8e0152"
            ],
            [
             0.1,
             "#c51b7d"
            ],
            [
             0.2,
             "#de77ae"
            ],
            [
             0.3,
             "#f1b6da"
            ],
            [
             0.4,
             "#fde0ef"
            ],
            [
             0.5,
             "#f7f7f7"
            ],
            [
             0.6,
             "#e6f5d0"
            ],
            [
             0.7,
             "#b8e186"
            ],
            [
             0.8,
             "#7fbc41"
            ],
            [
             0.9,
             "#4d9221"
            ],
            [
             1,
             "#276419"
            ]
           ],
           "sequential": [
            [
             0,
             "#0d0887"
            ],
            [
             0.1111111111111111,
             "#46039f"
            ],
            [
             0.2222222222222222,
             "#7201a8"
            ],
            [
             0.3333333333333333,
             "#9c179e"
            ],
            [
             0.4444444444444444,
             "#bd3786"
            ],
            [
             0.5555555555555556,
             "#d8576b"
            ],
            [
             0.6666666666666666,
             "#ed7953"
            ],
            [
             0.7777777777777778,
             "#fb9f3a"
            ],
            [
             0.8888888888888888,
             "#fdca26"
            ],
            [
             1,
             "#f0f921"
            ]
           ],
           "sequentialminus": [
            [
             0,
             "#0d0887"
            ],
            [
             0.1111111111111111,
             "#46039f"
            ],
            [
             0.2222222222222222,
             "#7201a8"
            ],
            [
             0.3333333333333333,
             "#9c179e"
            ],
            [
             0.4444444444444444,
             "#bd3786"
            ],
            [
             0.5555555555555556,
             "#d8576b"
            ],
            [
             0.6666666666666666,
             "#ed7953"
            ],
            [
             0.7777777777777778,
             "#fb9f3a"
            ],
            [
             0.8888888888888888,
             "#fdca26"
            ],
            [
             1,
             "#f0f921"
            ]
           ]
          },
          "colorway": [
           "#636efa",
           "#EF553B",
           "#00cc96",
           "#ab63fa",
           "#FFA15A",
           "#19d3f3",
           "#FF6692",
           "#B6E880",
           "#FF97FF",
           "#FECB52"
          ],
          "font": {
           "color": "#2a3f5f"
          },
          "geo": {
           "bgcolor": "white",
           "lakecolor": "white",
           "landcolor": "#E5ECF6",
           "showlakes": true,
           "showland": true,
           "subunitcolor": "white"
          },
          "hoverlabel": {
           "align": "left"
          },
          "hovermode": "closest",
          "mapbox": {
           "style": "light"
          },
          "paper_bgcolor": "white",
          "plot_bgcolor": "#E5ECF6",
          "polar": {
           "angularaxis": {
            "gridcolor": "white",
            "linecolor": "white",
            "ticks": ""
           },
           "bgcolor": "#E5ECF6",
           "radialaxis": {
            "gridcolor": "white",
            "linecolor": "white",
            "ticks": ""
           }
          },
          "scene": {
           "xaxis": {
            "backgroundcolor": "#E5ECF6",
            "gridcolor": "white",
            "gridwidth": 2,
            "linecolor": "white",
            "showbackground": true,
            "ticks": "",
            "zerolinecolor": "white"
           },
           "yaxis": {
            "backgroundcolor": "#E5ECF6",
            "gridcolor": "white",
            "gridwidth": 2,
            "linecolor": "white",
            "showbackground": true,
            "ticks": "",
            "zerolinecolor": "white"
           },
           "zaxis": {
            "backgroundcolor": "#E5ECF6",
            "gridcolor": "white",
            "gridwidth": 2,
            "linecolor": "white",
            "showbackground": true,
            "ticks": "",
            "zerolinecolor": "white"
           }
          },
          "shapedefaults": {
           "line": {
            "color": "#2a3f5f"
           }
          },
          "ternary": {
           "aaxis": {
            "gridcolor": "white",
            "linecolor": "white",
            "ticks": ""
           },
           "baxis": {
            "gridcolor": "white",
            "linecolor": "white",
            "ticks": ""
           },
           "bgcolor": "#E5ECF6",
           "caxis": {
            "gridcolor": "white",
            "linecolor": "white",
            "ticks": ""
           }
          },
          "title": {
           "x": 0.05
          },
          "xaxis": {
           "automargin": true,
           "gridcolor": "white",
           "linecolor": "white",
           "ticks": "",
           "title": {
            "standoff": 15
           },
           "zerolinecolor": "white",
           "zerolinewidth": 2
          },
          "yaxis": {
           "automargin": true,
           "gridcolor": "white",
           "linecolor": "white",
           "ticks": "",
           "title": {
            "standoff": 15
           },
           "zerolinecolor": "white",
           "zerolinewidth": 2
          }
         }
        },
        "xaxis": {
         "anchor": "y",
         "domain": [
          0.55,
          1
         ]
        },
        "yaxis": {
         "anchor": "x",
         "domain": [
          0,
          0.375
         ]
        }
       }
      },
      "text/html": [
       "<div>                            <div id=\"ba457280-2043-45d3-b91f-de4f5ac6d067\" class=\"plotly-graph-div\" style=\"height:525px; width:100%;\"></div>            <script type=\"text/javascript\">                require([\"plotly\"], function(Plotly) {                    window.PLOTLYENV=window.PLOTLYENV || {};                                    if (document.getElementById(\"ba457280-2043-45d3-b91f-de4f5ac6d067\")) {                    Plotly.newPlot(                        \"ba457280-2043-45d3-b91f-de4f5ac6d067\",                        [{\"domain\": {\"x\": [0.0, 0.45], \"y\": [0.625, 1.0]}, \"labels\": [\"together\", \"separate\"], \"type\": \"pie\", \"values\": [12, 2]}, {\"domain\": {\"x\": [0.55, 1.0], \"y\": [0.625, 1.0]}, \"labels\": [false, true], \"type\": \"pie\", \"values\": [8, 6]}, {\"domain\": {\"x\": [0.0, 0.45], \"y\": [0.0, 0.375]}, \"labels\": [false, true], \"type\": \"pie\", \"values\": [11, 3]}, {\"type\": \"histogram\", \"x\": [\"(20, 30]\", \"(20, 30]\", \"(30, 40]\", \"(30, 40]\", \"(30, 40]\", \"(30, 40]\", \"(30, 40]\", \"(30, 40]\", \"(40, 50]\", \"(40, 50]\", \"(40, 50]\", \"(40, 50]\", \"(40, 50]\", \"(40, 50]\"], \"xaxis\": \"x\", \"yaxis\": \"y\"}],                        {\"annotations\": [{\"font\": {\"size\": 16}, \"showarrow\": false, \"text\": \"Restroom\", \"x\": 0.225, \"xanchor\": \"center\", \"xref\": \"paper\", \"y\": 1.0, \"yanchor\": \"bottom\", \"yref\": \"paper\"}, {\"font\": {\"size\": 16}, \"showarrow\": false, \"text\": \"Studio\", \"x\": 0.775, \"xanchor\": \"center\", \"xref\": \"paper\", \"y\": 1.0, \"yanchor\": \"bottom\", \"yref\": \"paper\"}, {\"font\": {\"size\": 16}, \"showarrow\": false, \"text\": \"Storeroom\", \"x\": 0.225, \"xanchor\": \"center\", \"xref\": \"paper\", \"y\": 0.375, \"yanchor\": \"bottom\", \"yref\": \"paper\"}, {\"font\": {\"size\": 16}, \"showarrow\": false, \"text\": \"Area\", \"x\": 0.775, \"xanchor\": \"center\", \"xref\": \"paper\", \"y\": 0.375, \"yanchor\": \"bottom\", \"yref\": \"paper\"}], \"template\": {\"data\": {\"bar\": [{\"error_x\": {\"color\": \"#2a3f5f\"}, \"error_y\": {\"color\": \"#2a3f5f\"}, \"marker\": {\"line\": {\"color\": \"#E5ECF6\", \"width\": 0.5}}, \"type\": \"bar\"}], \"barpolar\": [{\"marker\": {\"line\": {\"color\": \"#E5ECF6\", \"width\": 0.5}}, \"type\": \"barpolar\"}], \"carpet\": [{\"aaxis\": {\"endlinecolor\": \"#2a3f5f\", \"gridcolor\": \"white\", \"linecolor\": \"white\", \"minorgridcolor\": \"white\", \"startlinecolor\": \"#2a3f5f\"}, \"baxis\": {\"endlinecolor\": \"#2a3f5f\", \"gridcolor\": \"white\", \"linecolor\": \"white\", \"minorgridcolor\": \"white\", \"startlinecolor\": \"#2a3f5f\"}, \"type\": \"carpet\"}], \"choropleth\": [{\"colorbar\": {\"outlinewidth\": 0, \"ticks\": \"\"}, \"type\": \"choropleth\"}], \"contour\": [{\"colorbar\": {\"outlinewidth\": 0, \"ticks\": \"\"}, \"colorscale\": [[0.0, \"#0d0887\"], [0.1111111111111111, \"#46039f\"], [0.2222222222222222, \"#7201a8\"], [0.3333333333333333, \"#9c179e\"], [0.4444444444444444, \"#bd3786\"], [0.5555555555555556, \"#d8576b\"], [0.6666666666666666, \"#ed7953\"], [0.7777777777777778, \"#fb9f3a\"], [0.8888888888888888, \"#fdca26\"], [1.0, \"#f0f921\"]], \"type\": \"contour\"}], \"contourcarpet\": [{\"colorbar\": {\"outlinewidth\": 0, \"ticks\": \"\"}, \"type\": \"contourcarpet\"}], \"heatmap\": [{\"colorbar\": {\"outlinewidth\": 0, \"ticks\": \"\"}, \"colorscale\": [[0.0, \"#0d0887\"], [0.1111111111111111, \"#46039f\"], [0.2222222222222222, \"#7201a8\"], [0.3333333333333333, \"#9c179e\"], [0.4444444444444444, \"#bd3786\"], [0.5555555555555556, \"#d8576b\"], [0.6666666666666666, \"#ed7953\"], [0.7777777777777778, \"#fb9f3a\"], [0.8888888888888888, \"#fdca26\"], [1.0, \"#f0f921\"]], \"type\": \"heatmap\"}], \"heatmapgl\": [{\"colorbar\": {\"outlinewidth\": 0, \"ticks\": \"\"}, \"colorscale\": [[0.0, \"#0d0887\"], [0.1111111111111111, \"#46039f\"], [0.2222222222222222, \"#7201a8\"], [0.3333333333333333, \"#9c179e\"], [0.4444444444444444, \"#bd3786\"], [0.5555555555555556, \"#d8576b\"], [0.6666666666666666, \"#ed7953\"], [0.7777777777777778, \"#fb9f3a\"], [0.8888888888888888, \"#fdca26\"], [1.0, \"#f0f921\"]], \"type\": \"heatmapgl\"}], \"histogram\": [{\"marker\": {\"colorbar\": {\"outlinewidth\": 0, \"ticks\": \"\"}}, \"type\": \"histogram\"}], \"histogram2d\": [{\"colorbar\": {\"outlinewidth\": 0, \"ticks\": \"\"}, \"colorscale\": [[0.0, \"#0d0887\"], [0.1111111111111111, \"#46039f\"], [0.2222222222222222, \"#7201a8\"], [0.3333333333333333, \"#9c179e\"], [0.4444444444444444, \"#bd3786\"], [0.5555555555555556, \"#d8576b\"], [0.6666666666666666, \"#ed7953\"], [0.7777777777777778, \"#fb9f3a\"], [0.8888888888888888, \"#fdca26\"], [1.0, \"#f0f921\"]], \"type\": \"histogram2d\"}], \"histogram2dcontour\": [{\"colorbar\": {\"outlinewidth\": 0, \"ticks\": \"\"}, \"colorscale\": [[0.0, \"#0d0887\"], [0.1111111111111111, \"#46039f\"], [0.2222222222222222, \"#7201a8\"], [0.3333333333333333, \"#9c179e\"], [0.4444444444444444, \"#bd3786\"], [0.5555555555555556, \"#d8576b\"], [0.6666666666666666, \"#ed7953\"], [0.7777777777777778, \"#fb9f3a\"], [0.8888888888888888, \"#fdca26\"], [1.0, \"#f0f921\"]], \"type\": \"histogram2dcontour\"}], \"mesh3d\": [{\"colorbar\": {\"outlinewidth\": 0, \"ticks\": \"\"}, \"type\": \"mesh3d\"}], \"parcoords\": [{\"line\": {\"colorbar\": {\"outlinewidth\": 0, \"ticks\": \"\"}}, \"type\": \"parcoords\"}], \"pie\": [{\"automargin\": true, \"type\": \"pie\"}], \"scatter\": [{\"marker\": {\"colorbar\": {\"outlinewidth\": 0, \"ticks\": \"\"}}, \"type\": \"scatter\"}], \"scatter3d\": [{\"line\": {\"colorbar\": {\"outlinewidth\": 0, \"ticks\": \"\"}}, \"marker\": {\"colorbar\": {\"outlinewidth\": 0, \"ticks\": \"\"}}, \"type\": \"scatter3d\"}], \"scattercarpet\": [{\"marker\": {\"colorbar\": {\"outlinewidth\": 0, \"ticks\": \"\"}}, \"type\": \"scattercarpet\"}], \"scattergeo\": [{\"marker\": {\"colorbar\": {\"outlinewidth\": 0, \"ticks\": \"\"}}, \"type\": \"scattergeo\"}], \"scattergl\": [{\"marker\": {\"colorbar\": {\"outlinewidth\": 0, \"ticks\": \"\"}}, \"type\": \"scattergl\"}], \"scattermapbox\": [{\"marker\": {\"colorbar\": {\"outlinewidth\": 0, \"ticks\": \"\"}}, \"type\": \"scattermapbox\"}], \"scatterpolar\": [{\"marker\": {\"colorbar\": {\"outlinewidth\": 0, \"ticks\": \"\"}}, \"type\": \"scatterpolar\"}], \"scatterpolargl\": [{\"marker\": {\"colorbar\": {\"outlinewidth\": 0, \"ticks\": \"\"}}, \"type\": \"scatterpolargl\"}], \"scatterternary\": [{\"marker\": {\"colorbar\": {\"outlinewidth\": 0, \"ticks\": \"\"}}, \"type\": \"scatterternary\"}], \"surface\": [{\"colorbar\": {\"outlinewidth\": 0, \"ticks\": \"\"}, \"colorscale\": [[0.0, \"#0d0887\"], [0.1111111111111111, \"#46039f\"], [0.2222222222222222, \"#7201a8\"], [0.3333333333333333, \"#9c179e\"], [0.4444444444444444, \"#bd3786\"], [0.5555555555555556, \"#d8576b\"], [0.6666666666666666, \"#ed7953\"], [0.7777777777777778, \"#fb9f3a\"], [0.8888888888888888, \"#fdca26\"], [1.0, \"#f0f921\"]], \"type\": \"surface\"}], \"table\": [{\"cells\": {\"fill\": {\"color\": \"#EBF0F8\"}, \"line\": {\"color\": \"white\"}}, \"header\": {\"fill\": {\"color\": \"#C8D4E3\"}, \"line\": {\"color\": \"white\"}}, \"type\": \"table\"}]}, \"layout\": {\"annotationdefaults\": {\"arrowcolor\": \"#2a3f5f\", \"arrowhead\": 0, \"arrowwidth\": 1}, \"coloraxis\": {\"colorbar\": {\"outlinewidth\": 0, \"ticks\": \"\"}}, \"colorscale\": {\"diverging\": [[0, \"#8e0152\"], [0.1, \"#c51b7d\"], [0.2, \"#de77ae\"], [0.3, \"#f1b6da\"], [0.4, \"#fde0ef\"], [0.5, \"#f7f7f7\"], [0.6, \"#e6f5d0\"], [0.7, \"#b8e186\"], [0.8, \"#7fbc41\"], [0.9, \"#4d9221\"], [1, \"#276419\"]], \"sequential\": [[0.0, \"#0d0887\"], [0.1111111111111111, \"#46039f\"], [0.2222222222222222, \"#7201a8\"], [0.3333333333333333, \"#9c179e\"], [0.4444444444444444, \"#bd3786\"], [0.5555555555555556, \"#d8576b\"], [0.6666666666666666, \"#ed7953\"], [0.7777777777777778, \"#fb9f3a\"], [0.8888888888888888, \"#fdca26\"], [1.0, \"#f0f921\"]], \"sequentialminus\": [[0.0, \"#0d0887\"], [0.1111111111111111, \"#46039f\"], [0.2222222222222222, \"#7201a8\"], [0.3333333333333333, \"#9c179e\"], [0.4444444444444444, \"#bd3786\"], [0.5555555555555556, \"#d8576b\"], [0.6666666666666666, \"#ed7953\"], [0.7777777777777778, \"#fb9f3a\"], [0.8888888888888888, \"#fdca26\"], [1.0, \"#f0f921\"]]}, \"colorway\": [\"#636efa\", \"#EF553B\", \"#00cc96\", \"#ab63fa\", \"#FFA15A\", \"#19d3f3\", \"#FF6692\", \"#B6E880\", \"#FF97FF\", \"#FECB52\"], \"font\": {\"color\": \"#2a3f5f\"}, \"geo\": {\"bgcolor\": \"white\", \"lakecolor\": \"white\", \"landcolor\": \"#E5ECF6\", \"showlakes\": true, \"showland\": true, \"subunitcolor\": \"white\"}, \"hoverlabel\": {\"align\": \"left\"}, \"hovermode\": \"closest\", \"mapbox\": {\"style\": \"light\"}, \"paper_bgcolor\": \"white\", \"plot_bgcolor\": \"#E5ECF6\", \"polar\": {\"angularaxis\": {\"gridcolor\": \"white\", \"linecolor\": \"white\", \"ticks\": \"\"}, \"bgcolor\": \"#E5ECF6\", \"radialaxis\": {\"gridcolor\": \"white\", \"linecolor\": \"white\", \"ticks\": \"\"}}, \"scene\": {\"xaxis\": {\"backgroundcolor\": \"#E5ECF6\", \"gridcolor\": \"white\", \"gridwidth\": 2, \"linecolor\": \"white\", \"showbackground\": true, \"ticks\": \"\", \"zerolinecolor\": \"white\"}, \"yaxis\": {\"backgroundcolor\": \"#E5ECF6\", \"gridcolor\": \"white\", \"gridwidth\": 2, \"linecolor\": \"white\", \"showbackground\": true, \"ticks\": \"\", \"zerolinecolor\": \"white\"}, \"zaxis\": {\"backgroundcolor\": \"#E5ECF6\", \"gridcolor\": \"white\", \"gridwidth\": 2, \"linecolor\": \"white\", \"showbackground\": true, \"ticks\": \"\", \"zerolinecolor\": \"white\"}}, \"shapedefaults\": {\"line\": {\"color\": \"#2a3f5f\"}}, \"ternary\": {\"aaxis\": {\"gridcolor\": \"white\", \"linecolor\": \"white\", \"ticks\": \"\"}, \"baxis\": {\"gridcolor\": \"white\", \"linecolor\": \"white\", \"ticks\": \"\"}, \"bgcolor\": \"#E5ECF6\", \"caxis\": {\"gridcolor\": \"white\", \"linecolor\": \"white\", \"ticks\": \"\"}}, \"title\": {\"x\": 0.05}, \"xaxis\": {\"automargin\": true, \"gridcolor\": \"white\", \"linecolor\": \"white\", \"ticks\": \"\", \"title\": {\"standoff\": 15}, \"zerolinecolor\": \"white\", \"zerolinewidth\": 2}, \"yaxis\": {\"automargin\": true, \"gridcolor\": \"white\", \"linecolor\": \"white\", \"ticks\": \"\", \"title\": {\"standoff\": 15}, \"zerolinecolor\": \"white\", \"zerolinewidth\": 2}}}, \"xaxis\": {\"anchor\": \"y\", \"domain\": [0.55, 1.0]}, \"yaxis\": {\"anchor\": \"x\", \"domain\": [0.0, 0.375]}},                        {\"responsive\": true}                    ).then(function(){\n",
       "                            \n",
       "var gd = document.getElementById('ba457280-2043-45d3-b91f-de4f5ac6d067');\n",
       "var x = new MutationObserver(function (mutations, observer) {{\n",
       "        var display = window.getComputedStyle(gd).display;\n",
       "        if (!display || display === 'none') {{\n",
       "            console.log([gd, 'removed!']);\n",
       "            Plotly.purge(gd);\n",
       "            observer.disconnect();\n",
       "        }}\n",
       "}});\n",
       "\n",
       "// Listen for the removal of the full notebook cells\n",
       "var notebookContainer = gd.closest('#notebook-container');\n",
       "if (notebookContainer) {{\n",
       "    x.observe(notebookContainer, {childList: true});\n",
       "}}\n",
       "\n",
       "// Listen for the clearing of the current output cell\n",
       "var outputEl = gd.closest('.output');\n",
       "if (outputEl) {{\n",
       "    x.observe(outputEl, {childList: true});\n",
       "}}\n",
       "\n",
       "                        })                };                });            </script>        </div>"
      ]
     },
     "metadata": {},
     "output_type": "display_data"
    }
   ],
   "source": [
    "import plotly.graph_objects as go\n",
    "\n",
    "from plotly.subplots import make_subplots\n",
    "\n",
    "n_rooms = 1\n",
    "df_rooms = df[df.n_rooms == n_rooms]\n",
    "fig = make_subplots(rows=2, cols=2,\n",
    "                    specs=[[{\"type\": 'domain'}, {\"type\": 'domain'}],\n",
    "                           [{\"type\": \"domain\"}, {}]],\n",
    "                   subplot_titles=(\"Restroom\", \"Studio\", \n",
    "                                   \"Storeroom\", \"Area\"))\n",
    "fig.add_trace(go.Pie(values=df_rooms.restroom.value_counts(),\n",
    "       labels=df_rooms.restroom.value_counts().index ),\n",
    "             row=1, col=1)\n",
    "fig.add_trace(go.Pie(values=df_rooms.studio.value_counts(),\n",
    "       labels=df_rooms.studio.value_counts().index ),\n",
    "             row=1, col=2)\n",
    "fig.add_trace(go.Pie(values=df_rooms.storeroom.value_counts(),\n",
    "       labels=df_rooms.storeroom.value_counts().index ),\n",
    "             row=2, col=1)\n",
    "# fig.update_traces(hoverinfo='label+percent', textinfo='label+percent+value',\n",
    "#                  showlegend=False)\n",
    "fig.add_trace(go.Histogram(x=df_rooms.area_cat.sort_values().astype('string')),\n",
    "#     go.Pie(values=df_rooms.area_cat.value_counts(),\n",
    "#        labels=df_rooms.area_cat.astype('string').value_counts().index ),\n",
    "             row=2, col=2)\n"
   ]
  },
  {
   "cell_type": "code",
   "execution_count": 215,
   "metadata": {},
   "outputs": [
    {
     "data": {
      "text/plain": [
       "studio  storeroom  area_cat\n",
       "False   False      (30, 40]    2\n",
       "                   (40, 50]    2\n",
       "        True       (40, 50]    2\n",
       "True    False      (20, 30]    2\n",
       "                   (30, 40]    2\n",
       "                   (40, 50]    1\n",
       "Name: area, dtype: int64"
      ]
     },
     "execution_count": 215,
     "metadata": {},
     "output_type": "execute_result"
    }
   ],
   "source": [
    "temp = df_rooms.groupby(['studio','storeroom', 'area_cat'])\\\n",
    "                  .area.count()#,'area_cat'])\\\n",
    "\n",
    "\n",
    "temp[temp!=0]"
   ]
  },
  {
   "cell_type": "code",
   "execution_count": null,
   "metadata": {},
   "outputs": [],
   "source": []
  }
 ],
 "metadata": {
  "kernelspec": {
   "display_name": "Python 3",
   "language": "python",
   "name": "python3"
  },
  "language_info": {
   "codemirror_mode": {
    "name": "ipython",
    "version": 3
   },
   "file_extension": ".py",
   "mimetype": "text/x-python",
   "name": "python",
   "nbconvert_exporter": "python",
   "pygments_lexer": "ipython3",
   "version": "3.8.5"
  }
 },
 "nbformat": 4,
 "nbformat_minor": 4
}
