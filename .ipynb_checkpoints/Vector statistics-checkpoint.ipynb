{
 "cells": [
  {
   "cell_type": "code",
   "execution_count": 1,
   "metadata": {},
   "outputs": [],
   "source": [
    "import pandas as pd\n",
    "import numpy as np\n",
    "from lxml import etree"
   ]
  },
  {
   "cell_type": "code",
   "execution_count": 2,
   "metadata": {},
   "outputs": [],
   "source": [
    "svg_path = \"/home/refenement/Projects/Dataset_flats/new/ini/prj/\"\n",
    "dataset_path = '/home/refenement/Projects/Dataset_flats/new/all/'\n",
    "df = pd.read_csv('/home/refenement/Projects/Dataset_flats/flats_info.csv')"
   ]
  },
  {
   "cell_type": "code",
   "execution_count": 3,
   "metadata": {},
   "outputs": [],
   "source": [
    "name = df.name.iloc[0]\n",
    "img = svg_path + name + '_256.svg'"
   ]
  },
  {
   "cell_type": "code",
   "execution_count": 4,
   "metadata": {},
   "outputs": [],
   "source": [
    "tree = etree.parse(img)\n",
    "root = tree.getroot()"
   ]
  },
  {
   "cell_type": "code",
   "execution_count": 5,
   "metadata": {},
   "outputs": [
    {
     "name": "stdout",
     "output_type": "stream",
     "text": [
      "{http://www.w3.org/2000/svg}metadata\n",
      "{http://www.w3.org/2000/svg}defs\n",
      "{http://sodipodi.sourceforge.net/DTD/sodipodi-0.dtd}namedview\n",
      "{http://www.w3.org/2000/svg}g\n",
      "{http://www.w3.org/2000/svg}g\n",
      "{http://www.w3.org/2000/svg}g\n",
      "{http://www.w3.org/2000/svg}g\n",
      "{http://www.w3.org/2000/svg}g\n",
      "{http://www.w3.org/2000/svg}g\n"
     ]
    }
   ],
   "source": [
    "for c in root:\n",
    "    print(c.tag)"
   ]
  },
  {
   "cell_type": "code",
   "execution_count": 6,
   "metadata": {},
   "outputs": [
    {
     "data": {
      "text/plain": [
       "9"
      ]
     },
     "execution_count": 6,
     "metadata": {},
     "output_type": "execute_result"
    }
   ],
   "source": [
    "len(root)"
   ]
  },
  {
   "cell_type": "code",
   "execution_count": 7,
   "metadata": {},
   "outputs": [],
   "source": [
    "def get_image_stats(name):\n",
    "    img = svg_path + name + '_256.svg'\n",
    "    tree = etree.parse(img)\n",
    "    root = tree.getroot()\n",
    "    total_len = len(root)\n",
    "    counter = 0\n",
    "    for c in root:\n",
    "        if '{http://www.w3.org/2000/svg}g' == c.tag:\n",
    "            counter += 1\n",
    "            \n",
    "    return total_len, counter"
   ]
  },
  {
   "cell_type": "code",
   "execution_count": 8,
   "metadata": {},
   "outputs": [],
   "source": [
    "df['img_stats'] = df.name.apply(get_image_stats)"
   ]
  },
  {
   "cell_type": "code",
   "execution_count": 9,
   "metadata": {},
   "outputs": [],
   "source": [
    "layers = ['main', 'rooms', 'walls', 'doors main', 'doors add']\n",
    "\n",
    "def get_n_layers(name, out=False):\n",
    "    img = svg_path + name + '_256.svg'\n",
    "    tree = etree.parse(img)\n",
    "    root = tree.getroot()\n",
    "    statistics = {'name': name}\n",
    "    for c in root:\n",
    "        if '{http://www.w3.org/2000/svg}g' == c.tag and\\\n",
    "            c.get('{http://www.inkscape.org/namespaces/inkscape}label') in layers:\n",
    "            name_layer = c.get('{http://www.inkscape.org/namespaces/inkscape}label')\n",
    "            statistics[name_layer] = len(c)\n",
    "            \n",
    "            if out:\n",
    "                print(name_layer)\n",
    "                for cc in c:\n",
    "                    print(cc.tag, cc.attrib)\n",
    "                print('-------------------')\n",
    "    return statistics"
   ]
  },
  {
   "cell_type": "code",
   "execution_count": 10,
   "metadata": {},
   "outputs": [
    {
     "data": {
      "text/plain": [
       "name          0\n",
       "main          0\n",
       "rooms         0\n",
       "walls         0\n",
       "doors main    0\n",
       "doors add     0\n",
       "dtype: int64"
      ]
     },
     "execution_count": 10,
     "metadata": {},
     "output_type": "execute_result"
    }
   ],
   "source": [
    "t = pd.DataFrame(df.name.apply(get_n_layers).tolist())\n",
    "t.isna().sum()"
   ]
  },
  {
   "cell_type": "code",
   "execution_count": 18,
   "metadata": {},
   "outputs": [
    {
     "name": "stdout",
     "output_type": "stream",
     "text": [
      "main\n",
      "{http://www.w3.org/2000/svg}path M 2.570882,54.264382 V 233.51232 H 254.59617 V 54.264382 H 145.65475 V 15.629493 H 63.218671 v 38.634889 h 82.436079 z\n",
      "-------------------\n",
      "rooms\n",
      "{http://www.w3.org/2000/svg}path M 2.570882,54.264382 H 80.105039 V 156.15799 H 2.570882 V 54.264382\n",
      "{http://www.w3.org/2000/svg}path M 80.105039,54.264382 V 156.15799 H 156.34409 V 54.264382 H 80.105039 V 156.15799\n",
      "{http://www.w3.org/2000/svg}path m 2.570882,156.15799 v 27.63665 H 38.17356 v -27.63665 z\n",
      "{http://www.w3.org/2000/svg}path m 71.845803,183.79464 c 0,0 0,49.71768 0,49.71768 h 31.130957 v -49.71768 z\n",
      "{http://www.w3.org/2000/svg}path m 102.97676,183.79464 v 49.71768 h 53.36733 v -49.71768 h -53.36733\n",
      "{http://www.w3.org/2000/svg}path m 156.34409,156.15799 v 77.35433 h 98.25208 c 0,0 0,-77.35433 0,-77.35433 z\n",
      "{http://www.w3.org/2000/svg}path m 156.34409,54.264382 h 98.25208 V 156.15799 H 156.34409 V 54.264382\n",
      "{http://www.w3.org/2000/svg}path m 38.17356,156.15799 h 118.17053 v 27.63665 H 71.845803 v 49.71768 H 2.570882 V 183.79464 H 38.17356 v -27.63665\n",
      "{http://www.w3.org/2000/svg}path M 63.218671,15.629493 V 54.264382 H 145.65475 V 15.629493 Z\n",
      "-------------------\n",
      "walls\n",
      "{http://www.w3.org/2000/svg}path M 2.570882,156.15799 H 156.34409\n",
      "{http://www.w3.org/2000/svg}path M 156.34409,54.264382 V 156.15799\n",
      "{http://www.w3.org/2000/svg}path M 80.105039,54.264382 V 156.15799\n",
      "{http://www.w3.org/2000/svg}path M 2.570882,183.79464 H 38.17356 v -27.63665\n",
      "{http://www.w3.org/2000/svg}path m 63.218671,183.79464 h 93.125419 v 49.71768\n",
      "{http://www.w3.org/2000/svg}path m 102.97676,183.79464 v 49.71768\n",
      "{http://www.w3.org/2000/svg}path m 71.845803,183.79464 v 49.71768\n",
      "-------------------\n",
      "doors main\n",
      "{http://www.w3.org/2000/svg}path M 38.17356,233.51232 H 63.218671\n",
      "{http://www.w3.org/2000/svg}path M 93.385055,54.264382 H 115.73137\n",
      "{http://www.w3.org/2000/svg}path M 138.10416,54.264382 H 115.73137\n",
      "{http://www.w3.org/2000/svg}path m 17.950057,54.264382 c 3.879938,0 36.922402,0 36.922402,0\n",
      "{http://www.w3.org/2000/svg}path m 175.955,54.264382 c 1.10277,0 21.6806,0 21.6806,0\n",
      "{http://www.w3.org/2000/svg}path M 254.59617,84.271249 V 120.71482\n",
      "{http://www.w3.org/2000/svg}path m 254.59617,141.02588 v 35.83637\n",
      "{http://www.w3.org/2000/svg}path m 102.97676,226.88599 c 1.29885,0 14.60031,0 14.60031,0 v 6.62633 h -14.60031 v -6.62633\n",
      "-------------------\n",
      "doors add\n",
      "{http://www.w3.org/2000/svg}path M 56.311951,156.15799 H 76.212987\n",
      "{http://www.w3.org/2000/svg}path m 38.17356,158.88024 v 15.88942\n",
      "{http://www.w3.org/2000/svg}path m 76.948383,183.79464 c 1.011116,0 16.96057,0 16.96057,0\n",
      "{http://www.w3.org/2000/svg}path m 83.88563,156.15799 h 21.32495\n",
      "{http://www.w3.org/2000/svg}path m 117.57707,183.79464 h 15.66541\n",
      "-------------------\n"
     ]
    }
   ],
   "source": [
    "def get_path(name):\n",
    "    img = svg_path + name + '_256.svg'\n",
    "    tree = etree.parse(img)\n",
    "    root = tree.getroot()\n",
    "    results = []\n",
    "    \n",
    "    for c in root:\n",
    "        statistics = {'name': name}\n",
    "        if '{http://www.w3.org/2000/svg}g' == c.tag and\\\n",
    "            c.get('{http://www.inkscape.org/namespaces/inkscape}label') in layers:\n",
    "            name_layer = c.get('{http://www.inkscape.org/namespaces/inkscape}label')\n",
    "            print(name_layer)\n",
    "            for cc in c:\n",
    "                print(cc.tag, cc.get('d'))\n",
    "            print('-------------------')\n",
    "            \n",
    "get_path(name)"
   ]
  },
  {
   "cell_type": "code",
   "execution_count": 17,
   "metadata": {},
   "outputs": [
    {
     "data": {
      "text/plain": [
       "'3r_73m3_ts_sy'"
      ]
     },
     "execution_count": 17,
     "metadata": {},
     "output_type": "execute_result"
    }
   ],
   "source": [
    "name"
   ]
  },
  {
   "cell_type": "code",
   "execution_count": null,
   "metadata": {},
   "outputs": [],
   "source": []
  }
 ],
 "metadata": {
  "kernelspec": {
   "display_name": "Python 3",
   "language": "python",
   "name": "python3"
  },
  "language_info": {
   "codemirror_mode": {
    "name": "ipython",
    "version": 3
   },
   "file_extension": ".py",
   "mimetype": "text/x-python",
   "name": "python",
   "nbconvert_exporter": "python",
   "pygments_lexer": "ipython3",
   "version": "3.8.5"
  }
 },
 "nbformat": 4,
 "nbformat_minor": 4
}
